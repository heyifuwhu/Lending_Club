{
 "cells": [
  {
   "cell_type": "markdown",
   "metadata": {},
   "source": [
    "# Modeling\n",
    "## 1. Import cleaned data"
   ]
  },
  {
   "cell_type": "code",
   "execution_count": 49,
   "metadata": {},
   "outputs": [],
   "source": [
    "import pandas as pd\n",
    "import numpy as np\n",
    "import sys, os\n",
    "import matplotlib.pyplot as plt\n",
    "plt.style.use('ggplot')\n",
    "%matplotlib inline\n",
    "import seaborn as sns\n",
    "sns.set_palette('muted')\n",
    "sns.set_style('darkgrid')\n",
    "\n",
    "import warnings\n",
    "warnings.filterwarnings('ignore')"
   ]
  },
  {
   "cell_type": "code",
   "execution_count": 80,
   "metadata": {},
   "outputs": [],
   "source": [
    "data_path = os.path.join(os.getcwd(),'data')\n",
    "train = pd.read_csv(os.path.join(data_path, \"train.csv\"))\n",
    "# train = pd.read_csv(os.path.join(data_path, \"train_resample.csv\"))\n",
    "test = pd.read_csv(os.path.join(data_path, \"test.csv\"))\n",
    "\n",
    "# seperate features and response\n",
    "X_train, Y_train = train.iloc[:,1:], train[\"loan_status\"] \n",
    "X_test, Y_test = test.iloc[:,1:], test[\"loan_status\"] "
   ]
  },
  {
   "cell_type": "code",
   "execution_count": 83,
   "metadata": {},
   "outputs": [],
   "source": [
    "from sklearn.linear_model import LogisticRegression\n",
    "from sklearn.metrics import plot_confusion_matrix\n",
    "from sklearn.metrics import confusion_matrix\n",
    "from sklearn.metrics import precision_score, recall_score, classification_report, accuracy_score, f1_score\n",
    "def show_result(clf, X_train, Y_train, X_test, Y_test, pos_label):\n",
    "    print(\"Accuracy on train set: {}\".format(clf.score(X_train, Y_train)))\n",
    "    print(\"Accuracy on test set: {}\".format(clf.score(X_test, Y_test)))\n",
    "    \n",
    "    plot_confusion_matrix(clf, X_test, Y_test,\n",
    "                                 #display_labels=class_names,\n",
    "                                 cmap=plt.cm.Blues,\n",
    "                                 #normalize=normalize\n",
    "                     )\n",
    "    Y_pred = clf.predict(X_test)\n",
    "    Matrix = confusion_matrix(Y_test, Y_pred)\n",
    "    \n",
    "    # calculate the result of classification\n",
    "    result = pd.DataFrame([[-1,-1,-1,-1]],columns=[\"Accuracy\", \"Precision\", \"Recall\", \"F1-Score\"])\n",
    "    result[\"Accuracy\"] = accuracy_score(Y_test, Y_pred)\n",
    "    result[\"Precision\"] = precision_score(Y_test, Y_pred, pos_label = pos_label)\n",
    "    result[\"Recall\"] = recall_score(Y_test, Y_pred, pos_label = pos_label)\n",
    "    result[\"F1-Score\"] = f1_score(Y_test, Y_pred, pos_label = pos_label)\n",
    "    return result\n",
    "\n"
   ]
  },
  {
   "cell_type": "markdown",
   "metadata": {},
   "source": [
    "## 2. logistic regression\n"
   ]
  },
  {
   "cell_type": "code",
   "execution_count": 82,
   "metadata": {},
   "outputs": [
    {
     "name": "stdout",
     "output_type": "stream",
     "text": [
      "Accuracy on train set: 0.8563574099092023\n",
      "Accuracy on test set: 0.861631268065854\n"
     ]
    },
    {
     "data": {
      "text/html": [
       "<div>\n",
       "<style scoped>\n",
       "    .dataframe tbody tr th:only-of-type {\n",
       "        vertical-align: middle;\n",
       "    }\n",
       "\n",
       "    .dataframe tbody tr th {\n",
       "        vertical-align: top;\n",
       "    }\n",
       "\n",
       "    .dataframe thead th {\n",
       "        text-align: right;\n",
       "    }\n",
       "</style>\n",
       "<table border=\"1\" class=\"dataframe\">\n",
       "  <thead>\n",
       "    <tr style=\"text-align: right;\">\n",
       "      <th></th>\n",
       "      <th>Accuracy</th>\n",
       "      <th>Precision</th>\n",
       "      <th>Recall</th>\n",
       "      <th>F1-Score</th>\n",
       "    </tr>\n",
       "  </thead>\n",
       "  <tbody>\n",
       "    <tr>\n",
       "      <td>0</td>\n",
       "      <td>0.861631</td>\n",
       "      <td>0.861631</td>\n",
       "      <td>1.0</td>\n",
       "      <td>0.925673</td>\n",
       "    </tr>\n",
       "  </tbody>\n",
       "</table>\n",
       "</div>"
      ],
      "text/plain": [
       "   Accuracy  Precision  Recall  F1-Score\n",
       "0  0.861631   0.861631     1.0  0.925673"
      ]
     },
     "execution_count": 82,
     "metadata": {},
     "output_type": "execute_result"
    },
    {
     "data": {
      "image/png": "[encoded data removed]",
      "text/plain": [
       "<Figure size 432x288 with 2 Axes>"
      ]
     },
     "metadata": {},
     "output_type": "display_data"
    }
   ],
   "source": [
    "clf_logistic = LogisticRegression(n_jobs = -1).fit(X_train, Y_train)\n",
    "show_result(clf_logistic,X_train,Y_train,X_test,Y_test, \"Fully Paid\")"
   ]
  },
  {
   "cell_type": "code",
   "execution_count": null,
   "metadata": {},
   "outputs": [],
   "source": [
    "sum(Y_train == 1)/len(Y_train)"
   ]
  },
  {
   "cell_type": "code",
   "execution_count": null,
   "metadata": {},
   "outputs": [],
   "source": []
  },
  {
   "cell_type": "markdown",
   "metadata": {},
   "source": [
    "## 3.Decision Tree"
   ]
  },
  {
   "cell_type": "code",
   "execution_count": 113,
   "metadata": {},
   "outputs": [
    {
     "name": "stdout",
     "output_type": "stream",
     "text": [
      "Accuracy on train set: 1.0\n",
      "Accuracy on test set: 0.7614678899082569\n"
     ]
    },
    {
     "data": {
      "image/png": "[encoded data removed]",
      "text/plain": [
       "<Figure size 432x288 with 2 Axes>"
      ]
     },
     "metadata": {},
     "output_type": "display_data"
    }
   ],
   "source": [
    "from sklearn import tree\n",
    "clf_decisionTree = tree.DecisionTreeClassifier()\n",
    "clf_decisionTree = clf_decisionTree.fit(X_train, Y_train)\n",
    "show_result(clf_decisionTree,X_train,Y_train,X_test,Y_test)"
   ]
  },
  {
   "cell_type": "markdown",
   "metadata": {},
   "source": [
    "## 4. Random Forest"
   ]
  },
  {
   "cell_type": "code",
   "execution_count": 114,
   "metadata": {},
   "outputs": [
    {
     "name": "stdout",
     "output_type": "stream",
     "text": [
      "Accuracy on train set: 0.9999685821106538\n",
      "Accuracy on test set: 0.8610028905366344\n"
     ]
    },
    {
     "data": {
      "image/png": "[encoded data removed]",
      "text/plain": [
       "<Figure size 432x288 with 2 Axes>"
      ]
     },
     "metadata": {},
     "output_type": "display_data"
    }
   ],
   "source": [
    "from sklearn.ensemble import RandomForestClassifier\n",
    "clf_rf = RandomForestClassifier(n_jobs = -1)\n",
    "clf_rf.fit(X_train,Y_train)\n",
    "show_result(clf_rf,X_train,Y_train,X_test,Y_test)"
   ]
  },
  {
   "cell_type": "code",
   "execution_count": 95,
   "metadata": {},
   "outputs": [
    {
     "data": {
      "text/plain": [
       "0.861631268065854"
      ]
     },
     "execution_count": 95,
     "metadata": {},
     "output_type": "execute_result"
    }
   ],
   "source": [
    "sum(Y_test == 1)/len(Y_test)"
   ]
  },
  {
   "cell_type": "code",
   "execution_count": null,
   "metadata": {},
   "outputs": [],
   "source": [
    "clf_rf."
   ]
  }
 ],
 "metadata": {
  "kernelspec": {
   "display_name": "Python 3",
   "language": "python",
   "name": "python3"
  },
  "language_info": {
   "codemirror_mode": {
    "name": "ipython",
    "version": 3
   },
   "file_extension": ".py",
   "mimetype": "text/x-python",
   "name": "python",
   "nbconvert_exporter": "python",
   "pygments_lexer": "ipython3",
   "version": "3.7.4"
  }
 },
 "nbformat": 4,
 "nbformat_minor": 4
}
