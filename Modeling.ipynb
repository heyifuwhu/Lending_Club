{
 "cells": [
  {
   "cell_type": "code",
   "execution_count": 1,
   "metadata": {},
   "outputs": [
    {
     "data": {
      "text/plain": [
       "'/home/ubuntu/anaconda3/bin/python'"
      ]
     },
     "execution_count": 1,
     "metadata": {},
     "output_type": "execute_result"
    }
   ],
   "source": [
    "import sys\n",
    "sys.executable"
   ]
  },
  {
   "cell_type": "code",
   "execution_count": 2,
   "metadata": {},
   "outputs": [
    {
     "name": "stderr",
     "output_type": "stream",
     "text": [
      "/home/ubuntu/anaconda3/lib/python3.7/site-packages/statsmodels/tools/_testing.py:19: FutureWarning: pandas.util.testing is deprecated. Use the functions in the public API at pandas.testing instead.\n",
      "  import pandas.util.testing as tm\n"
     ]
    }
   ],
   "source": [
    "import numpy as np\n",
    "import pandas as pd\n",
    "from scipy import stats\n",
    "import os, sys\n",
    "from sklearn.model_selection import train_test_split\n",
    "from statsmodels.stats.outliers_influence import variance_inflation_factor\n",
    "from patsy import dmatrices\n",
    "from statsmodels.tools.tools import add_constant\n",
    "import statsmodels.api as sm\n",
    "import statsmodels.formula.api as smf\n",
    "from sklearn.model_selection import cross_val_score\n",
    "from sklearn.ensemble import RandomForestRegressor\n",
    "from sklearn import metrics\n",
    "from sklearn.model_selection import cross_val_score\n",
    "from sklearn.model_selection import GridSearchCV\n",
    "\n",
    "# from sklearn.externals import joblib\n",
    "\n",
    "import seaborn as sns\n",
    "import matplotlib.pyplot as plt\n",
    "%matplotlib inline\n",
    "\n",
    "# multiprocessing\n",
    "from joblib import Parallel, delayed\n",
    "\n",
    "root = r\"/home/ubuntu/Documents/RCE\" \n",
    "data_save_path = os.path.join(root,\"data\")\n",
    "os.makedirs(data_save_path, exist_ok=True)\n",
    "plot_save_path = os.path.join(root,\"plot\")\n",
    "os.makedirs(plot_save_path, exist_ok=True)\n",
    "model_save_path = os.path.join(root,\"model\")\n",
    "os.makedirs(plot_save_path, exist_ok=True)\n",
    "    \n",
    "\n",
    "def plotCap(data,colname,pctile=[5,10,25,50,75,90,95]):\n",
    "    pctval = np.nanpercentile(data[colname],pctile)\n",
    "    plt.bar(x=pctile,height=pctval)\n",
    "    plt.show()\n",
    "    \n",
    "    \n",
    "def capOutlierVals(data, colname, pctile):\n",
    "    pctval = np.nanpercentile(data[colname], pctile)\n",
    "    print(pctval)\n",
    "    print(f'########### {colname} ###########')\n",
    "    print(\"Before Capping - Statistics\")\n",
    "    percentile=[5,10,25,50,75,80,85,90,95,97,98,99]\n",
    "    tmp_before = pd.DataFrame(np.nanpercentile(data[colname],percentile).reshape(-1,len(percentile)),\n",
    "                               columns=[str(i)+'%' for i in percentile],index= ['Percentile'])\n",
    "    print(tmp_before.T)\n",
    "    print(data[colname].describe())\n",
    "    # print(stats.describe(data[colname].values, nan_policy=\"omit\"))\n",
    "    \n",
    "    print(f'########### {colname} ###########')\n",
    "    print(\"After Capping - Statistics\")\n",
    "    \n",
    "    new_colname =colname+\"_cap\"\n",
    "    data[new_colname] = np.where(data[colname] >= pctval, pctval, data[colname])\n",
    "    tmp_after = pd.DataFrame(np.nanpercentile(data[new_colname],percentile).reshape(-1,len(percentile)),\n",
    "                              columns=[str(i)+'%' for i in percentile],index= ['Percentile'])\n",
    "    print(tmp_after.T)\n",
    "    print(data[new_colname].describe())\n",
    "    # print(stats.describe(res.values, nan_policy=\"omit\"))  \n",
    "\n",
    "def print_null(dt):\n",
    "    print(\"###########################################################\")\n",
    "    print(\"shape: \", {dt.shape})\n",
    "    null_list = dt.isnull().sum(axis=0)\n",
    "    res = null_list[null_list != 0].to_frame()\n",
    "    res[\"null\"] = res[0] \n",
    "    res = res.drop(0,axis=1)\n",
    "    res[\"null_ratio\"] = res[\"null\"]/dt.shape[0]\n",
    "    print(res)\n",
    "    return res\n",
    "\n",
    "def print_type(dt):\n",
    "    print(\"###########################################################\")\n",
    "    for i in range(dt.shape[1]):\n",
    "        print(dt.columns[i],type(dt.iloc[0,i]),dt.iloc[0,i],sep=\"\\t\")\n",
    "\n",
    "\n",
    "# self-defined VIF test\n",
    "def VIFtest(df):\n",
    "    \"\"\"\n",
    "    This function will use the package of statsmodels to perform the variance_inflation_factor, then return the\n",
    "    result of VIF_value in the form of DataFrame\n",
    "    Parameters\n",
    "    ----------\n",
    "    df: pandas.Dataframe\n",
    "        data of features\n",
    "\n",
    "    Returns\n",
    "    ----------\n",
    "    res: pandas.DataFrame\n",
    "        data of the result of VIF test\n",
    "    \"\"\"\n",
    "    # add the constant term\n",
    "    # ---------------------\n",
    "    # way 1\n",
    "    X = add_constant(df)\n",
    "    \n",
    "    # way 2 patsy\n",
    "    \"\"\"\n",
    "    features = \"+\".join(df.columns)\n",
    "    y, X = dmatrices('df.columns[0] ~' + features, df, return_type='dataframe')\n",
    "    \"\"\"\n",
    "    \n",
    "    # For each X, calculate VIF and save in dataframe\n",
    "    vif = pd.DataFrame()\n",
    "    vif[\"features\"] = X.columns\n",
    "    vif[\"VIF Factor\"] = [variance_inflation_factor(X.values, i) for i in range(X.shape[1])]\n",
    "    return vif.round(5)\n",
    "\n",
    "\n",
    "def checkVIF(x):\n",
    "    df = add_constant(x)\n",
    "    df['c'] = 1\n",
    "    name = df.columns\n",
    "    x = np.matrix(df)\n",
    "    VIF_list = [variance_inflation_factor(x,i) for i in range(x.shape[1])]\n",
    "    VIF = pd.DataFrame({'feature':name,\"VIF\":VIF_list})\n",
    "    # VIF = VIF.drop('c',axis = 0)\n",
    "    max_VIF = max(VIF_list)\n",
    "    print(max_VIF)\n",
    "    return VIF\n",
    "\n",
    "def univariate_regress(dt, y):\n",
    "    for i in dt.columns:\n",
    "        x = add_constant(dt[i])\n",
    "        model = sm.OLS(y,x)\n",
    "        res = model.fit()\n",
    "        print(res.summary())\n",
    "\n",
    "def calc(data):\n",
    "    n=len(data) # 10000个数\n",
    "    niu=0.0 # niu表示平均值,即期望.\n",
    "    niu2=0.0 # niu2表示平方的平均值\n",
    "    niu3=0.0 # niu3表示三次方的平均值\n",
    "    for a in data:\n",
    "        niu += a\n",
    "        niu2 += a**2\n",
    "        niu3 += a**3\n",
    "    niu /= n  \n",
    "    niu2 /= n\n",
    "    niu3 /= n\n",
    "    sigma = np.sqrt(niu2 - niu*niu)\n",
    "    return [niu,sigma,niu3]\n",
    "\n",
    "def calc_stat(data):\n",
    "    [niu, sigma, niu3]=calc(data)\n",
    "    n=len(data)\n",
    "    niu4=0.0 # niu4计算峰度计算公式的分子\n",
    "    for a in data:\n",
    "        a -= niu\n",
    "        niu4 += a**4\n",
    "    niu4 /= n\n",
    " \n",
    "    skew =(niu3 -3*niu*sigma**2-niu**3)/(sigma**3) # 偏度计算公式\n",
    "    kurt=niu4/(sigma**4) - 3 # 峰度计算公式:下方为方差的平方即为标准差的四次方\n",
    "    return [niu, sigma,skew,kurt]\n",
    "\n",
    "def show_dist(data):\n",
    "    sns.distplot(data, fit=stats.norm)\n",
    "    # (mu0,sigma0) = norm.fit(Sale_AV[\"Price_1000s_cap\"])\n",
    "    # print( '\\n mu = {:.2f} and sigma = {:.2f}\\n'.format(mu0, sigma0))\n",
    "    (mu, sigma, skewness, kurtosis) = calc_stat(data)\n",
    "    print( '\\n mu = {:.2f}, sigma = {:.2f}, skewness={:.2f}, kurtosis = {:.2f}\\n'.format(mu, sigma, skewness, kurtosis))\n",
    "    plt.legend(['Normal dist. ($\\mu=$ {:.2f},$\\sigma=$ {:.2f}\\nSkewness={:.2f}, Kurtosis = {:.2f} )'.format(mu, sigma,skewness, kurtosis)],\n",
    "               loc='best')\n",
    "    plt.ylabel('Frequency')\n",
    "    plt.title('Distribution')\n",
    "    plt.show()\n",
    "\n",
    "def customized_preprocessing(dt, output, numerical, categorical):\n",
    "    # check nan of numerical features before preprocessing\n",
    "    print_null(dt.loc[:,numerical])\n",
    "    print_null(dt.loc[:,categorical])\n",
    "    \n",
    "    # one hot encoding\n",
    "    X = pd.concat([dt.loc[:,numerical_features], pd.get_dummies(dt.loc[:,categorical_features])],axis=1)\n",
    "    \n",
    "    # split data set\n",
    "    X_train, X_test, Y_train, Y_test = train_test_split(X, dt.loc[:,output])\n",
    "    \n",
    "    # z-score normalization\n",
    "    train_sample_mean = X_train.loc[:,numerical_features].mean(axis=0)\n",
    "    train_sample_std = X_train.loc[:,numerical_features].std(axis=0) \n",
    "    X_train.loc[:,numerical_features] = (X_train.loc[:,numerical_features] - train_sample_mean)/train_sample_std\n",
    "    X_test.loc[:,numerical_features] = (X_test.loc[:,numerical_features] - train_sample_mean)/train_sample_std  \n",
    "    return X_train, X_test, Y_train, Y_test\n"
   ]
  },
  {
   "cell_type": "markdown",
   "metadata": {},
   "source": [
    "# 1.Feature selection"
   ]
  },
  {
   "cell_type": "code",
   "execution_count": 172,
   "metadata": {},
   "outputs": [
    {
     "name": "stderr",
     "output_type": "stream",
     "text": [
      "/home/ubuntu/anaconda3/lib/python3.7/site-packages/IPython/core/interactiveshell.py:3058: DtypeWarning: Columns (12) have mixed types.Specify dtype option on import or set low_memory=False.\n",
      "  interactivity=interactivity, compiler=compiler, result=result)\n"
     ]
    }
   ],
   "source": [
    "Sale_AV = pd.read_csv(data_save_path+\"/Sale_AV.csv\", header=0)"
   ]
  },
  {
   "cell_type": "code",
   "execution_count": 173,
   "metadata": {},
   "outputs": [
    {
     "data": {
      "text/plain": [
       "Index(['MD_GeoCounty', 'MD_City', 'MD_Zip', 'Geo_CensusTract',\n",
       "       'Geo_CensusBlock', 'AreaGrp2', 'LotSize', 'YrB_Grps_20', 'SaleYr',\n",
       "       'poolGrp1', 'MD_Address', 'MD_Address2', 'MD_Suite', 'MD_State',\n",
       "       'MD_Latitude', 'MD_Longitude', 'Z_T', 'Z_T_B', 'PropString',\n",
       "       'LandString', 'PropertyType', 'PropType', 'Year_Built', 'SaleYrGrp',\n",
       "       'Price', 'PriceGrp', 'Price_Adj', 'PriceAdjGrp', 'LandValue',\n",
       "       'ImprovValue', 'AssessValue', 'AssessValueGrp', 'AssessValueGrp1',\n",
       "       'LandtoAssess', 'LandtoPriceAdj', 'ImprovtoAssess', 'ImprovtoPriceAdj',\n",
       "       'LotSizeGrp', 'garagetype', 'garagespaces', 'extwalls', 'stories',\n",
       "       'baths', 'bedroomCnt', 'AreaGrp1', 'YrB_Decades', 'YrB_Grps',\n",
       "       'cap_20PCT_Land', 'building_area', 'lot_size_or_area_sqft',\n",
       "       'no_of_stories', 'number_of_bedrooms', 'number_of_baths_100',\n",
       "       'garage_parking_number_of_cars', 'garage_type_parking',\n",
       "       'exterior_walls', 'Cohort', 'Price_1000s', 'SaleYrChr', 'Price_cap',\n",
       "       'Price_1000s_cap', 'AssessValue_cap', 'count_Blk', 'MeanAVperSF_Blk',\n",
       "       'count_Trct', 'MeanAVperSF_Trct', 'count_Zip', 'MeanAVperSF_Zip',\n",
       "       'MeanAVperSF_wt', 'AV_flag', 'AVtoMeanAV', 'AVtoMeanAVGrp',\n",
       "       'count_SP_Blk', 'MeanSPperSF_Blk', 'count_SP_Trct', 'MeanSPperSF_Trct',\n",
       "       'count_SP_Zip', 'MeanSPperSF_Zip', 'MeanSPperSF_wt', 'SP_flag',\n",
       "       'SPtoMeanSP', 'SPtoMeanSPGrp', 'count_Blk_1', 'MeanAVperSF_Blk_1',\n",
       "       'count_Trct_1', 'MeanAVperSF_Trct_1', 'count_Zip_1',\n",
       "       'MeanAVperSF_Zip_1', 'MeanAVperSF_wt1', 'MeanAVperSF_wt1_Grp'],\n",
       "      dtype='object')"
      ]
     },
     "execution_count": 173,
     "metadata": {},
     "output_type": "execute_result"
    }
   ],
   "source": [
    "Sale_AV.columns"
   ]
  },
  {
   "cell_type": "code",
   "execution_count": 174,
   "metadata": {},
   "outputs": [
    {
     "name": "stdout",
     "output_type": "stream",
     "text": [
      "###########################################################\n",
      "shape:  {(2858269, 90)}\n",
      "                                  null  null_ratio\n",
      "Geo_CensusTract                   3557    0.001244\n",
      "Geo_CensusBlock                   3557    0.001244\n",
      "MD_Address2                    2858269    1.000000\n",
      "MD_Suite                       2847924    0.996381\n",
      "no_of_stories                   740142    0.258948\n",
      "number_of_bedrooms                   3    0.000001\n",
      "number_of_baths_100                  4    0.000001\n",
      "garage_parking_number_of_cars       18    0.000006\n",
      "garage_type_parking             451934    0.158115\n"
     ]
    },
    {
     "data": {
      "text/html": [
       "<div>\n",
       "<style scoped>\n",
       "    .dataframe tbody tr th:only-of-type {\n",
       "        vertical-align: middle;\n",
       "    }\n",
       "\n",
       "    .dataframe tbody tr th {\n",
       "        vertical-align: top;\n",
       "    }\n",
       "\n",
       "    .dataframe thead th {\n",
       "        text-align: right;\n",
       "    }\n",
       "</style>\n",
       "<table border=\"1\" class=\"dataframe\">\n",
       "  <thead>\n",
       "    <tr style=\"text-align: right;\">\n",
       "      <th></th>\n",
       "      <th>null</th>\n",
       "      <th>null_ratio</th>\n",
       "    </tr>\n",
       "  </thead>\n",
       "  <tbody>\n",
       "    <tr>\n",
       "      <th>Geo_CensusTract</th>\n",
       "      <td>3557</td>\n",
       "      <td>0.001244</td>\n",
       "    </tr>\n",
       "    <tr>\n",
       "      <th>Geo_CensusBlock</th>\n",
       "      <td>3557</td>\n",
       "      <td>0.001244</td>\n",
       "    </tr>\n",
       "    <tr>\n",
       "      <th>MD_Address2</th>\n",
       "      <td>2858269</td>\n",
       "      <td>1.000000</td>\n",
       "    </tr>\n",
       "    <tr>\n",
       "      <th>MD_Suite</th>\n",
       "      <td>2847924</td>\n",
       "      <td>0.996381</td>\n",
       "    </tr>\n",
       "    <tr>\n",
       "      <th>no_of_stories</th>\n",
       "      <td>740142</td>\n",
       "      <td>0.258948</td>\n",
       "    </tr>\n",
       "    <tr>\n",
       "      <th>number_of_bedrooms</th>\n",
       "      <td>3</td>\n",
       "      <td>0.000001</td>\n",
       "    </tr>\n",
       "    <tr>\n",
       "      <th>number_of_baths_100</th>\n",
       "      <td>4</td>\n",
       "      <td>0.000001</td>\n",
       "    </tr>\n",
       "    <tr>\n",
       "      <th>garage_parking_number_of_cars</th>\n",
       "      <td>18</td>\n",
       "      <td>0.000006</td>\n",
       "    </tr>\n",
       "    <tr>\n",
       "      <th>garage_type_parking</th>\n",
       "      <td>451934</td>\n",
       "      <td>0.158115</td>\n",
       "    </tr>\n",
       "  </tbody>\n",
       "</table>\n",
       "</div>"
      ],
      "text/plain": [
       "                                  null  null_ratio\n",
       "Geo_CensusTract                   3557    0.001244\n",
       "Geo_CensusBlock                   3557    0.001244\n",
       "MD_Address2                    2858269    1.000000\n",
       "MD_Suite                       2847924    0.996381\n",
       "no_of_stories                   740142    0.258948\n",
       "number_of_bedrooms                   3    0.000001\n",
       "number_of_baths_100                  4    0.000001\n",
       "garage_parking_number_of_cars       18    0.000006\n",
       "garage_type_parking             451934    0.158115"
      ]
     },
     "execution_count": 174,
     "metadata": {},
     "output_type": "execute_result"
    }
   ],
   "source": [
    "print_null(Sale_AV)"
   ]
  },
  {
   "cell_type": "code",
   "execution_count": 175,
   "metadata": {},
   "outputs": [
    {
     "data": {
      "text/html": [
       "<div>\n",
       "<style scoped>\n",
       "    .dataframe tbody tr th:only-of-type {\n",
       "        vertical-align: middle;\n",
       "    }\n",
       "\n",
       "    .dataframe tbody tr th {\n",
       "        vertical-align: top;\n",
       "    }\n",
       "\n",
       "    .dataframe thead th {\n",
       "        text-align: right;\n",
       "    }\n",
       "</style>\n",
       "<table border=\"1\" class=\"dataframe\">\n",
       "  <thead>\n",
       "    <tr style=\"text-align: right;\">\n",
       "      <th></th>\n",
       "      <th>building_area</th>\n",
       "      <th>MeanAVperSF_wt1</th>\n",
       "      <th>bedroom</th>\n",
       "      <th>baths</th>\n",
       "      <th>no_of_car</th>\n",
       "    </tr>\n",
       "  </thead>\n",
       "  <tbody>\n",
       "    <tr>\n",
       "      <th>99%</th>\n",
       "      <td>4548.666068</td>\n",
       "      <td>662.82385</td>\n",
       "      <td>4.323159</td>\n",
       "      <td>4.289882</td>\n",
       "      <td>1.862016</td>\n",
       "    </tr>\n",
       "    <tr>\n",
       "      <th>Sale_AV</th>\n",
       "      <td>2021.021370</td>\n",
       "      <td>323.82512</td>\n",
       "      <td>3.441128</td>\n",
       "      <td>2.306313</td>\n",
       "      <td>2.306313</td>\n",
       "    </tr>\n",
       "  </tbody>\n",
       "</table>\n",
       "</div>"
      ],
      "text/plain": [
       "         building_area  MeanAVperSF_wt1   bedroom     baths  no_of_car\n",
       "99%        4548.666068        662.82385  4.323159  4.289882   1.862016\n",
       "Sale_AV    2021.021370        323.82512  3.441128  2.306313   2.306313"
      ]
     },
     "execution_count": 175,
     "metadata": {},
     "output_type": "execute_result"
    }
   ],
   "source": [
    "# percentile of Price\n",
    "percentile = [10,25,50,75,90,95,96,97,98,99,99.9]\n",
    "pd.DataFrame(np.nanpercentile(Sale_AV[\"Price_1000s\"],percentile).reshape(-1,len(percentile)),\n",
    "                               columns=[str(i)+'%' for i in percentile],index= ['Percentile'])\n",
    "\n",
    "# outlier for price\n",
    "out = Sale_AV[Sale_AV[\"Price_1000s\"]>2600]\n",
    "d = {\"building_area\":[out.building_area.mean(),Sale_AV.building_area.mean()],\n",
    "     \"MeanAVperSF_wt1\":[out.MeanAVperSF_wt1.mean(),Sale_AV.MeanAVperSF_wt1.mean()],\n",
    "     \"bedroom\":[out.number_of_bedrooms.mean(),Sale_AV.number_of_bedrooms.mean()],\n",
    "     \"baths\":[out.number_of_baths_100.mean(),Sale_AV.number_of_baths_100.mean()],\n",
    "     \"no_of_car\":[out.garage_parking_number_of_cars.mean(),Sale_AV.number_of_baths_100.mean()],\n",
    "    }\n",
    "pd.DataFrame(d,index=[\"99%\",\"Sale_AV\"])   \n",
    "     "
   ]
  },
  {
   "cell_type": "code",
   "execution_count": 176,
   "metadata": {},
   "outputs": [],
   "source": [
    "# Outliers of lot size\n",
    "# lot size < building area # 2830592 * 28\n",
    "Sale_AV = Sale_AV[Sale_AV[\"lot_size_or_area_sqft\"] > Sale_AV[\"building_area\"]] # delete 26528"
   ]
  },
  {
   "cell_type": "code",
   "execution_count": 187,
   "metadata": {},
   "outputs": [
    {
     "data": {
      "text/plain": [
       "A. [0-0.249 AC]       2232419\n",
       "B. [0.25-0.499 AC]     347073\n",
       "C. [0.50-0.999 AC]      98838\n",
       "E. [2.00-4.999 AC]      61665\n",
       "D. [1.00-1.999 AC]      48829\n",
       "F. [5+ AC]              41768\n",
       "Name: LotSize, dtype: int64"
      ]
     },
     "execution_count": 187,
     "metadata": {},
     "output_type": "execute_result"
    }
   ],
   "source": [
    "Sale_AV[\"LotSize\"].value_counts()"
   ]
  },
  {
   "cell_type": "code",
   "execution_count": null,
   "metadata": {},
   "outputs": [],
   "source": []
  },
  {
   "cell_type": "code",
   "execution_count": 178,
   "metadata": {},
   "outputs": [
    {
     "data": {
      "text/html": [
       "<div>\n",
       "<style scoped>\n",
       "    .dataframe tbody tr th:only-of-type {\n",
       "        vertical-align: middle;\n",
       "    }\n",
       "\n",
       "    .dataframe tbody tr th {\n",
       "        vertical-align: top;\n",
       "    }\n",
       "\n",
       "    .dataframe thead th {\n",
       "        text-align: right;\n",
       "    }\n",
       "</style>\n",
       "<table border=\"1\" class=\"dataframe\">\n",
       "  <thead>\n",
       "    <tr style=\"text-align: right;\">\n",
       "      <th></th>\n",
       "      <th>10%</th>\n",
       "      <th>25%</th>\n",
       "      <th>50%</th>\n",
       "      <th>75%</th>\n",
       "      <th>90%</th>\n",
       "      <th>95%</th>\n",
       "      <th>96%</th>\n",
       "      <th>97%</th>\n",
       "      <th>98%</th>\n",
       "      <th>99%</th>\n",
       "      <th>99.9%</th>\n",
       "    </tr>\n",
       "  </thead>\n",
       "  <tbody>\n",
       "    <tr>\n",
       "      <th>Percentile</th>\n",
       "      <td>158.3337</td>\n",
       "      <td>207.1251</td>\n",
       "      <td>297.8024</td>\n",
       "      <td>389.2558</td>\n",
       "      <td>530.164959</td>\n",
       "      <td>630.8573</td>\n",
       "      <td>662.9244</td>\n",
       "      <td>701.228</td>\n",
       "      <td>747.6808</td>\n",
       "      <td>822.9786</td>\n",
       "      <td>1021.419</td>\n",
       "    </tr>\n",
       "  </tbody>\n",
       "</table>\n",
       "</div>"
      ],
      "text/plain": [
       "                 10%       25%       50%       75%         90%       95%  \\\n",
       "Percentile  158.3337  207.1251  297.8024  389.2558  530.164959  630.8573   \n",
       "\n",
       "                 96%      97%       98%       99%     99.9%  \n",
       "Percentile  662.9244  701.228  747.6808  822.9786  1021.419  "
      ]
     },
     "execution_count": 178,
     "metadata": {},
     "output_type": "execute_result"
    }
   ],
   "source": [
    "# percentile of MeanAVperSF_wt1\n",
    "percentile = [10,25,50,75,90,95,96,97,98,99,99.9]\n",
    "pd.DataFrame(np.nanpercentile(Sale_AV[\"MeanAVperSF_wt1\"],percentile).reshape(-1,len(percentile)),\n",
    "                               columns=[str(i)+'%' for i in percentile],index= ['Percentile'])"
   ]
  },
  {
   "cell_type": "code",
   "execution_count": 198,
   "metadata": {},
   "outputs": [
    {
     "data": {
      "text/html": [
       "<div>\n",
       "<style scoped>\n",
       "    .dataframe tbody tr th:only-of-type {\n",
       "        vertical-align: middle;\n",
       "    }\n",
       "\n",
       "    .dataframe tbody tr th {\n",
       "        vertical-align: top;\n",
       "    }\n",
       "\n",
       "    .dataframe thead th {\n",
       "        text-align: right;\n",
       "    }\n",
       "</style>\n",
       "<table border=\"1\" class=\"dataframe\">\n",
       "  <thead>\n",
       "    <tr style=\"text-align: right;\">\n",
       "      <th></th>\n",
       "      <th>1%</th>\n",
       "      <th>10%</th>\n",
       "      <th>25%</th>\n",
       "      <th>50%</th>\n",
       "      <th>75%</th>\n",
       "      <th>90%</th>\n",
       "      <th>95%</th>\n",
       "      <th>96%</th>\n",
       "      <th>97%</th>\n",
       "      <th>98%</th>\n",
       "      <th>99%</th>\n",
       "      <th>99.9%</th>\n",
       "    </tr>\n",
       "  </thead>\n",
       "  <tbody>\n",
       "    <tr>\n",
       "      <th>Percentile</th>\n",
       "      <td>1.0</td>\n",
       "      <td>2.0</td>\n",
       "      <td>3.0</td>\n",
       "      <td>3.0</td>\n",
       "      <td>4.0</td>\n",
       "      <td>5.0</td>\n",
       "      <td>5.0</td>\n",
       "      <td>5.0</td>\n",
       "      <td>5.0</td>\n",
       "      <td>5.0</td>\n",
       "      <td>5.0</td>\n",
       "      <td>5.0</td>\n",
       "    </tr>\n",
       "  </tbody>\n",
       "</table>\n",
       "</div>"
      ],
      "text/plain": [
       "             1%  10%  25%  50%  75%  90%  95%  96%  97%  98%  99%  99.9%\n",
       "Percentile  1.0  2.0  3.0  3.0  4.0  5.0  5.0  5.0  5.0  5.0  5.0    5.0"
      ]
     },
     "execution_count": 198,
     "metadata": {},
     "output_type": "execute_result"
    }
   ],
   "source": [
    "# outliers of bedroom\n",
    "Sale_AV[\"number_of_bedrooms\"] = Sale_AV[\"number_of_bedrooms\"].fillna(Sale_AV[\"number_of_bedrooms\"].median())\n",
    "percentile = [1,10,25,50,75,90,95,96,97,98,99,99.9]\n",
    "pd.DataFrame(np.nanpercentile(Sale_AV[\"number_of_bedrooms\"],percentile).reshape(-1,len(percentile)),\n",
    "                               columns=[str(i)+'%' for i in percentile],index= ['Percentile'])\n"
   ]
  },
  {
   "cell_type": "code",
   "execution_count": 180,
   "metadata": {},
   "outputs": [],
   "source": [
    "Sale_AV[\"number_of_bedrooms\"]= np.where(Sale_AV[\"number_of_bedrooms\"] > 5, 5 , Sale_AV[\"number_of_bedrooms\"])"
   ]
  },
  {
   "cell_type": "code",
   "execution_count": 197,
   "metadata": {
    "scrolled": true
   },
   "outputs": [
    {
     "data": {
      "text/html": [
       "<div>\n",
       "<style scoped>\n",
       "    .dataframe tbody tr th:only-of-type {\n",
       "        vertical-align: middle;\n",
       "    }\n",
       "\n",
       "    .dataframe tbody tr th {\n",
       "        vertical-align: top;\n",
       "    }\n",
       "\n",
       "    .dataframe thead th {\n",
       "        text-align: right;\n",
       "    }\n",
       "</style>\n",
       "<table border=\"1\" class=\"dataframe\">\n",
       "  <thead>\n",
       "    <tr style=\"text-align: right;\">\n",
       "      <th></th>\n",
       "      <th>1%</th>\n",
       "      <th>10%</th>\n",
       "      <th>25%</th>\n",
       "      <th>50%</th>\n",
       "      <th>75%</th>\n",
       "      <th>90%</th>\n",
       "      <th>95%</th>\n",
       "      <th>96%</th>\n",
       "      <th>97%</th>\n",
       "      <th>98%</th>\n",
       "      <th>99%</th>\n",
       "      <th>99.9%</th>\n",
       "    </tr>\n",
       "  </thead>\n",
       "  <tbody>\n",
       "    <tr>\n",
       "      <th>Percentile</th>\n",
       "      <td>1.0</td>\n",
       "      <td>1.0</td>\n",
       "      <td>2.0</td>\n",
       "      <td>2.0</td>\n",
       "      <td>3.0</td>\n",
       "      <td>3.0</td>\n",
       "      <td>4.0</td>\n",
       "      <td>4.0</td>\n",
       "      <td>4.0</td>\n",
       "      <td>4.5</td>\n",
       "      <td>5.0</td>\n",
       "      <td>5.0</td>\n",
       "    </tr>\n",
       "  </tbody>\n",
       "</table>\n",
       "</div>"
      ],
      "text/plain": [
       "             1%  10%  25%  50%  75%  90%  95%  96%  97%  98%  99%  99.9%\n",
       "Percentile  1.0  1.0  2.0  2.0  3.0  3.0  4.0  4.0  4.0  4.5  5.0    5.0"
      ]
     },
     "execution_count": 197,
     "metadata": {},
     "output_type": "execute_result"
    }
   ],
   "source": [
    "# percentile of number_of_baths_100\n",
    "Sale_AV[\"number_of_baths_100\"] = Sale_AV[\"number_of_baths_100\"].fillna(Sale_AV[\"number_of_baths_100\"].median())\n",
    "percentile = [1,10,25,50,75,90,95,96,97,98,99,99.9]\n",
    "pd.DataFrame(np.nanpercentile(Sale_AV[\"number_of_baths_100\"],percentile).reshape(-1,len(percentile)),\n",
    "                               columns=[str(i)+'%' for i in percentile],index= ['Percentile'])\n"
   ]
  },
  {
   "cell_type": "code",
   "execution_count": 188,
   "metadata": {},
   "outputs": [],
   "source": [
    "Sale_AV[\"number_of_baths_100\"]= np.where(Sale_AV[\"number_of_baths_100\"] > 5, 5 , Sale_AV[\"number_of_baths_100\"])"
   ]
  },
  {
   "cell_type": "code",
   "execution_count": 189,
   "metadata": {},
   "outputs": [
    {
     "data": {
      "text/plain": [
       "B. [2]       1619289\n",
       "C. [3]        643153\n",
       "A. [1]        378770\n",
       "D. [4+]       188901\n",
       "E. [NULL]        479\n",
       "Name: baths, dtype: int64"
      ]
     },
     "execution_count": 189,
     "metadata": {},
     "output_type": "execute_result"
    }
   ],
   "source": [
    "Sale_AV[\"baths\"].value_counts()"
   ]
  },
  {
   "cell_type": "code",
   "execution_count": 190,
   "metadata": {},
   "outputs": [
    {
     "data": {
      "text/plain": [
       "177938"
      ]
     },
     "execution_count": 190,
     "metadata": {},
     "output_type": "execute_result"
    }
   ],
   "source": [
    "(Sale_AV[\"number_of_baths_100\"]>=4).sum()"
   ]
  },
  {
   "cell_type": "code",
   "execution_count": 196,
   "metadata": {},
   "outputs": [
    {
     "data": {
      "text/html": [
       "<div>\n",
       "<style scoped>\n",
       "    .dataframe tbody tr th:only-of-type {\n",
       "        vertical-align: middle;\n",
       "    }\n",
       "\n",
       "    .dataframe tbody tr th {\n",
       "        vertical-align: top;\n",
       "    }\n",
       "\n",
       "    .dataframe thead th {\n",
       "        text-align: right;\n",
       "    }\n",
       "</style>\n",
       "<table border=\"1\" class=\"dataframe\">\n",
       "  <thead>\n",
       "    <tr style=\"text-align: right;\">\n",
       "      <th></th>\n",
       "      <th>1%</th>\n",
       "      <th>10%</th>\n",
       "      <th>25%</th>\n",
       "      <th>50%</th>\n",
       "      <th>75%</th>\n",
       "      <th>90%</th>\n",
       "      <th>95%</th>\n",
       "      <th>96%</th>\n",
       "      <th>97%</th>\n",
       "      <th>98%</th>\n",
       "      <th>99%</th>\n",
       "      <th>99.9%</th>\n",
       "    </tr>\n",
       "  </thead>\n",
       "  <tbody>\n",
       "    <tr>\n",
       "      <th>Percentile</th>\n",
       "      <td>0.0</td>\n",
       "      <td>0.0</td>\n",
       "      <td>1.0</td>\n",
       "      <td>2.0</td>\n",
       "      <td>2.0</td>\n",
       "      <td>2.0</td>\n",
       "      <td>3.0</td>\n",
       "      <td>3.0</td>\n",
       "      <td>3.0</td>\n",
       "      <td>4.0</td>\n",
       "      <td>4.0</td>\n",
       "      <td>4.0</td>\n",
       "    </tr>\n",
       "  </tbody>\n",
       "</table>\n",
       "</div>"
      ],
      "text/plain": [
       "             1%  10%  25%  50%  75%  90%  95%  96%  97%  98%  99%  99.9%\n",
       "Percentile  0.0  0.0  1.0  2.0  2.0  2.0  3.0  3.0  3.0  4.0  4.0    4.0"
      ]
     },
     "execution_count": 196,
     "metadata": {},
     "output_type": "execute_result"
    }
   ],
   "source": [
    "# percentile of garage_parking_number_of_cars\n",
    "Sale_AV[\"garage_parking_number_of_cars\"] = Sale_AV[\"garage_parking_number_of_cars\"].fillna(Sale_AV[\"garage_parking_number_of_cars\"].median())\n",
    "percentile = [1,10,25,50,75,90,95,96,97,98,99,99.9]\n",
    "pd.DataFrame(np.nanpercentile(Sale_AV[\"garage_parking_number_of_cars\"],percentile).reshape(-1,len(percentile)),\n",
    "                               columns=[str(i)+'%' for i in percentile],index= ['Percentile'])\n",
    "\n"
   ]
  },
  {
   "cell_type": "code",
   "execution_count": 186,
   "metadata": {},
   "outputs": [
    {
     "data": {
      "text/plain": [
       "B. [2]       1630435\n",
       "F. [NULL]     670906\n",
       "A. [1]        265344\n",
       "C. [3]        202311\n",
       "D. [4]         45935\n",
       "E. [5+]        15661\n",
       "Name: garagespaces, dtype: int64"
      ]
     },
     "execution_count": 186,
     "metadata": {},
     "output_type": "execute_result"
    }
   ],
   "source": [
    "Sale_AV[\"garagespaces\"].value_counts()"
   ]
  },
  {
   "cell_type": "code",
   "execution_count": 194,
   "metadata": {},
   "outputs": [],
   "source": [
    "Sale_AV[\"garage_parking_number_of_cars\"]= np.where(Sale_AV[\"garage_parking_number_of_cars\"] > 4, 4 , Sale_AV[\"garage_parking_number_of_cars\"])"
   ]
  },
  {
   "cell_type": "code",
   "execution_count": 163,
   "metadata": {},
   "outputs": [
    {
     "name": "stdout",
     "output_type": "stream",
     "text": [
      "599.1976571347092 740142\n",
      "533.2818645509391 1326986\n",
      "627.0356540100697 733004\n",
      "1194.2780970484698 18465\n",
      "1047.2110888501743 1148\n",
      "2323.74 25\n",
      "6670.7 10\n"
     ]
    },
    {
     "data": {
      "text/plain": [
       "<matplotlib.axes._subplots.AxesSubplot at 0x7f4d0069f5d0>"
      ]
     },
     "execution_count": 163,
     "metadata": {},
     "output_type": "execute_result"
    },
    {
     "data": {
      "image/png": "[encoded data removed]",
      "text/plain": [
       "<Figure size 432x288 with 1 Axes>"
      ]
     },
     "metadata": {
      "needs_background": "light"
     },
     "output_type": "display_data"
    }
   ],
   "source": [
    "# no_of_stories\n",
    "print(Sale_AV[\"Price_1000s\"][Sale_AV[\"no_of_stories\"].isna()].mean(),Sale_AV[\"no_of_stories\"].isna().sum())\n",
    "print(Sale_AV[\"Price_1000s\"][Sale_AV[\"no_of_stories\"]==1].mean(),(Sale_AV[\"no_of_stories\"]==1).sum())\n",
    "print(Sale_AV[\"Price_1000s\"][Sale_AV[\"no_of_stories\"]==2].mean(),(Sale_AV[\"no_of_stories\"]==2).sum())\n",
    "print(Sale_AV[\"Price_1000s\"][Sale_AV[\"no_of_stories\"]==3].mean(),(Sale_AV[\"no_of_stories\"]==3).sum())\n",
    "print(Sale_AV[\"Price_1000s\"][Sale_AV[\"no_of_stories\"]==4].mean(),(Sale_AV[\"no_of_stories\"]==4).sum())\n",
    "print(Sale_AV[\"Price_1000s\"][Sale_AV[\"no_of_stories\"]==5].mean(),(Sale_AV[\"no_of_stories\"]==5).sum())\n",
    "print(Sale_AV[\"Price_1000s\"][Sale_AV[\"no_of_stories\"]==6].mean(),(Sale_AV[\"no_of_stories\"]==6).sum())\n",
    "sns.countplot(Sale_AV[\"stories\"])"
   ]
  },
  {
   "cell_type": "code",
   "execution_count": 236,
   "metadata": {},
   "outputs": [],
   "source": [
    "# stories_adj\n",
    "Sale_AV[\"stories_adj\"] = np.where((Sale_AV[\"stories\"] == \"C. [3]\") |\n",
    "                                  (Sale_AV[\"stories\"] == \"D. [4]\") |\n",
    "                                  (Sale_AV[\"stories\"] == \"E. [5+]\"),\n",
    "                                 \"C.[3+]\", Sale_AV[\"stories\"])"
   ]
  },
  {
   "cell_type": "code",
   "execution_count": 201,
   "metadata": {},
   "outputs": [
    {
     "data": {
      "text/plain": [
       "B. [No]     2289960\n",
       "A. [Yes]     540632\n",
       "Name: poolGrp1, dtype: int64"
      ]
     },
     "execution_count": 201,
     "metadata": {},
     "output_type": "execute_result"
    }
   ],
   "source": [
    "# poolGrps - keep\n",
    "Sale_AV[\"poolGrp1\"].value_counts()"
   ]
  },
  {
   "cell_type": "code",
   "execution_count": 207,
   "metadata": {},
   "outputs": [
    {
     "data": {
      "image/png": "[encoded data removed]",
      "text/plain": [
       "<Figure size 432x288 with 1 Axes>"
      ]
     },
     "metadata": {
      "needs_background": "light"
     },
     "output_type": "display_data"
    },
    {
     "data": {
      "image/png": "[encoded data removed]",
      "text/plain": [
       "<Figure size 432x288 with 1 Axes>"
      ]
     },
     "metadata": {
      "needs_background": "light"
     },
     "output_type": "display_data"
    }
   ],
   "source": [
    "# exterior_walls, extwalls\n",
    "sns.countplot(Sale_AV[\"exterior_walls\"])\n",
    "plt.show()\n",
    "sns.countplot(Sale_AV[\"extwalls\"])\n",
    "plt.show()"
   ]
  },
  {
   "cell_type": "code",
   "execution_count": 231,
   "metadata": {},
   "outputs": [
    {
     "data": {
      "image/png": "[encoded data removed]",
      "text/plain": [
       "<Figure size 432x288 with 1 Axes>"
      ]
     },
     "metadata": {
      "needs_background": "light"
     },
     "output_type": "display_data"
    },
    {
     "data": {
      "image/png": "[encoded data removed]",
      "text/plain": [
       "<Figure size 432x288 with 1 Axes>"
      ]
     },
     "metadata": {
      "needs_background": "light"
     },
     "output_type": "display_data"
    }
   ],
   "source": [
    "# SaleYr, SaleYrChr, SaleYrGrp\n",
    "year_ave = Sale_AV.loc[:,[\"SaleYrChr\",\"Price_1000s\"]].groupby(\"SaleYrChr\").mean()\n",
    "sns.lineplot(year_ave.index.tolist(),year_ave[\"Price_1000s\"])\n",
    "plt.title(\"SaleYrChr\")\n",
    "plt.show()\n",
    "# Sale_AV.loc[:,[\"SaleYr\",\"Price_1000s\"]].groupby(\"SaleYr\").mean()\n",
    "year_ave2 = Sale_AV.loc[:,[\"SaleYrGrp\",\"Price_1000s\"]].groupby(\"SaleYrGrp\").mean()\n",
    "sns.lineplot(year_ave2.index.tolist(),year_ave2[\"Price_1000s\"])\n",
    "plt.xticks(rotation=60)\n",
    "plt.title(\"SaleYrGrp\")\n",
    "plt.show()\n"
   ]
  },
  {
   "cell_type": "code",
   "execution_count": 230,
   "metadata": {},
   "outputs": [
    {
     "data": {
      "image/png": "[encoded data removed]",
      "text/plain": [
       "<Figure size 432x288 with 1 Axes>"
      ]
     },
     "metadata": {
      "needs_background": "light"
     },
     "output_type": "display_data"
    },
    {
     "data": {
      "image/png": "[encoded data removed]",
      "text/plain": [
       "<Figure size 432x288 with 1 Axes>"
      ]
     },
     "metadata": {
      "needs_background": "light"
     },
     "output_type": "display_data"
    },
    {
     "data": {
      "image/png": "[encoded data removed]",
      "text/plain": [
       "<Figure size 432x288 with 1 Axes>"
      ]
     },
     "metadata": {
      "needs_background": "light"
     },
     "output_type": "display_data"
    },
    {
     "data": {
      "image/png": "[encoded data removed]",
      "text/plain": [
       "<Figure size 432x288 with 1 Axes>"
      ]
     },
     "metadata": {
      "needs_background": "light"
     },
     "output_type": "display_data"
    }
   ],
   "source": [
    "# YrB_Decades', 'YrB_Grps', 'YrB_Grps_20', \"Year_Built\"\n",
    "year_ave = Sale_AV.loc[:,[\"Year_Built\",\"Price_1000s\"]].groupby(\"Year_Built\").mean()\n",
    "sns.lineplot(year_ave.index.tolist(),year_ave[\"Price_1000s\"])\n",
    "plt.title(\"Year_Built\")\n",
    "plt.show()\n",
    "\n",
    "year_ave2 = Sale_AV.loc[:,[\"YrB_Decades\",\"Price_1000s\"]].groupby(\"YrB_Decades\").mean()\n",
    "sns.lineplot(year_ave2.index.tolist(),year_ave2[\"Price_1000s\"])\n",
    "plt.xticks(rotation=60)\n",
    "plt.title(\"YrB_Decades\")\n",
    "plt.show()\n",
    "\n",
    "year_ave3 = Sale_AV.loc[:,[\"YrB_Grps\",\"Price_1000s\"]].groupby(\"YrB_Grps\").mean()\n",
    "sns.lineplot(year_ave3.index.tolist(),year_ave3[\"Price_1000s\"])\n",
    "plt.xticks(rotation=60)\n",
    "plt.title(\"YrB_Grps\")\n",
    "plt.show()\n",
    "\n",
    "year_ave4 = Sale_AV.loc[:,[\"YrB_Grps_20\",\"Price_1000s\"]].groupby(\"YrB_Grps_20\").mean()\n",
    "sns.lineplot(year_ave4.index.tolist(),year_ave4[\"Price_1000s\"])\n",
    "plt.xticks(rotation=60)\n",
    "plt.title(\"YrB_Grps_20\")\n",
    "plt.show()\n"
   ]
  },
  {
   "cell_type": "markdown",
   "metadata": {},
   "source": [
    "# 2. preprocessing"
   ]
  },
  {
   "cell_type": "code",
   "execution_count": 287,
   "metadata": {},
   "outputs": [],
   "source": [
    "def customized_preprocessing(dt, output, numerical_features, categorical_features):\n",
    "    # check nan of numerical features before preprocessing\n",
    "    print_null(dt.loc[:,numerical])\n",
    "    print_null(dt.loc[:,categorical])\n",
    "    \n",
    "    # one hot encoding\n",
    "    X = pd.concat([dt.loc[:,numerical_features], pd.get_dummies(dt.loc[:,categorical_features])],axis=1)\n",
    "    \n",
    "    # split data set\n",
    "    X_train, X_test, Y_train, Y_test = train_test_split(X, dt.loc[:,output])\n",
    "    \n",
    "    # z-score normalization\n",
    "    train_sample_mean = X_train.loc[:,numerical_features].mean(axis=0)\n",
    "    train_sample_std = X_train.loc[:,numerical_features].std(axis=0) \n",
    "    X_train.loc[:,numerical_features] = (X_train.loc[:,numerical_features] - train_sample_mean)/train_sample_std\n",
    "    X_test.loc[:,numerical_features] = (X_test.loc[:,numerical_features] - train_sample_mean)/train_sample_std  \n",
    "    return X_train, X_test, Y_train, Y_test\n",
    "Sale_AV[\"log_Price_1000s_cap\"] = np.log(Sale_AV[\"Price_1000s_cap\"])\n",
    "output = [#\"Price_1000s_cap\",\n",
    "         \"log_Price_1000s_cap\"\n",
    "         ]\n",
    "numerical = [\"building_area\",\n",
    "             \"MeanAVperSF_wt1\",\n",
    "             \"lot_size_or_area_sqft\",\n",
    "            \"number_of_bedrooms\",\n",
    "            \"number_of_baths_100\",\n",
    "            \"garage_parking_number_of_cars\"]\n",
    "categorical = [\"stories_adj\",\n",
    "               \"YrB_Decades\",\n",
    "               \"SaleYrGrp\",\n",
    "               #\"SaleYrChr\", \n",
    "               \"extwalls\",\n",
    "               \"poolGrp1\"]"
   ]
  },
  {
   "cell_type": "code",
   "execution_count": 273,
   "metadata": {},
   "outputs": [
    {
     "data": {
      "text/html": [
       "<div>\n",
       "<style scoped>\n",
       "    .dataframe tbody tr th:only-of-type {\n",
       "        vertical-align: middle;\n",
       "    }\n",
       "\n",
       "    .dataframe tbody tr th {\n",
       "        vertical-align: top;\n",
       "    }\n",
       "\n",
       "    .dataframe thead th {\n",
       "        text-align: right;\n",
       "    }\n",
       "</style>\n",
       "<table border=\"1\" class=\"dataframe\">\n",
       "  <thead>\n",
       "    <tr style=\"text-align: right;\">\n",
       "      <th></th>\n",
       "      <th>features</th>\n",
       "      <th>VIF Factor</th>\n",
       "    </tr>\n",
       "  </thead>\n",
       "  <tbody>\n",
       "    <tr>\n",
       "      <th>0</th>\n",
       "      <td>const</td>\n",
       "      <td>25.27805</td>\n",
       "    </tr>\n",
       "    <tr>\n",
       "      <th>1</th>\n",
       "      <td>building_area</td>\n",
       "      <td>2.07526</td>\n",
       "    </tr>\n",
       "    <tr>\n",
       "      <th>2</th>\n",
       "      <td>MeanAVperSF_wt1</td>\n",
       "      <td>1.08450</td>\n",
       "    </tr>\n",
       "    <tr>\n",
       "      <th>3</th>\n",
       "      <td>lot_size_or_area_sqft</td>\n",
       "      <td>1.00002</td>\n",
       "    </tr>\n",
       "    <tr>\n",
       "      <th>4</th>\n",
       "      <td>number_of_bedrooms</td>\n",
       "      <td>1.70149</td>\n",
       "    </tr>\n",
       "    <tr>\n",
       "      <th>5</th>\n",
       "      <td>number_of_baths_100</td>\n",
       "      <td>2.36731</td>\n",
       "    </tr>\n",
       "    <tr>\n",
       "      <th>6</th>\n",
       "      <td>garage_parking_number_of_cars</td>\n",
       "      <td>1.15120</td>\n",
       "    </tr>\n",
       "  </tbody>\n",
       "</table>\n",
       "</div>"
      ],
      "text/plain": [
       "                        features  VIF Factor\n",
       "0                          const    25.27805\n",
       "1                  building_area     2.07526\n",
       "2                MeanAVperSF_wt1     1.08450\n",
       "3          lot_size_or_area_sqft     1.00002\n",
       "4             number_of_bedrooms     1.70149\n",
       "5            number_of_baths_100     2.36731\n",
       "6  garage_parking_number_of_cars     1.15120"
      ]
     },
     "execution_count": 273,
     "metadata": {},
     "output_type": "execute_result"
    }
   ],
   "source": [
    "VIFtest(Sale_AV.loc[:,numerical])"
   ]
  },
  {
   "cell_type": "code",
   "execution_count": 288,
   "metadata": {},
   "outputs": [
    {
     "name": "stdout",
     "output_type": "stream",
     "text": [
      "###########################################################\n",
      "shape:  {(2830592, 6)}\n",
      "Empty DataFrame\n",
      "Columns: [null, null_ratio]\n",
      "Index: []\n",
      "###########################################################\n",
      "shape:  {(2830592, 5)}\n",
      "Empty DataFrame\n",
      "Columns: [null, null_ratio]\n",
      "Index: []\n",
      "(2122944, 33) (707648, 33)\n"
     ]
    },
    {
     "name": "stderr",
     "output_type": "stream",
     "text": [
      "/home/ubuntu/anaconda3/lib/python3.7/site-packages/pandas/core/indexing.py:1717: SettingWithCopyWarning: \n",
      "A value is trying to be set on a copy of a slice from a DataFrame.\n",
      "Try using .loc[row_indexer,col_indexer] = value instead\n",
      "\n",
      "See the caveats in the documentation: https://pandas.pydata.org/pandas-docs/stable/user_guide/indexing.html#returning-a-view-versus-a-copy\n",
      "  isetter(loc, v)\n"
     ]
    }
   ],
   "source": [
    "X_train,X_test,Y_train,Y_test = customized_preprocessing(Sale_AV,output,numerical,categorical)\n",
    "print(X_train.shape,X_test.shape)"
   ]
  },
  {
   "cell_type": "markdown",
   "metadata": {},
   "source": [
    "# 3.modeling\n",
    "## A.GLM"
   ]
  },
  {
   "cell_type": "code",
   "execution_count": 275,
   "metadata": {},
   "outputs": [],
   "source": [
    "from sklearn.linear_model import LinearRegression , Ridge, Lasso, ElasticNet\n",
    "from sklearn.metrics import mean_squared_error\n",
    "from sklearn.metrics import r2_score"
   ]
  },
  {
   "cell_type": "code",
   "execution_count": 276,
   "metadata": {},
   "outputs": [],
   "source": [
    "def regression_res(X_train,X_test,Y_train,Y_test):\n",
    "    # (Price_cap)\n",
    "    # print(\"Price:\")\n",
    "\n",
    "    # build the model and fit\n",
    "    lin_reg = LinearRegression(n_jobs=-1)\n",
    "    lin_reg.fit(X_train,Y_train)\n",
    "\n",
    "    # get R_square\n",
    "    print(f\"train_r2: {lin_reg.score(X_train,Y_train)}\")\n",
    "    print(f\"test_r2: {lin_reg.score(X_test,Y_test)}\")\n",
    "\n",
    "    # ge predict\n",
    "    Y_train_pred = lin_reg.predict(X_train)\n",
    "    Y_test_pred = lin_reg.predict(X_test)\n",
    "\n",
    "    lin_mse_train = mean_squared_error(y_true=Y_train, y_pred=Y_train_pred)\n",
    "    lin_mse = mean_squared_error(y_true=Y_test, y_pred=Y_test_pred)\n",
    "    print(lin_mse_train, lin_mse,sep=\"\\t\")\n",
    "\n",
    "    res = pd.DataFrame(Y_test.copy())\n",
    "    res[\"Y_test_pred\"] = Y_test_pred\n",
    "    return res\n",
    "          \n",
    "def regression_res_log(X_train,X_test,Y_train,Y_test):\n",
    "    # (Price_cap)\n",
    "    # print(\"Price:\")\n",
    "\n",
    "    # build the model and fit\n",
    "    lin_reg = LinearRegression(n_jobs=-1)\n",
    "    lin_reg.fit(X_train,Y_train[\"log_Price_1000s_cap\"])\n",
    "\n",
    "    # get R_square\n",
    "    print(f\"train_r2: {lin_reg.score(X_train,Y_train['log_Price_1000s_cap'])}\")\n",
    "    print(f\"test_r2: {lin_reg.score(X_test,Y_test['log_Price_1000s_cap'])}\")\n",
    "\n",
    "    # ge predict\n",
    "    Y_train_pred = np.exp(lin_reg.predict(X_train))\n",
    "    Y_test_pred = np.exp(lin_reg.predict(X_test))\n",
    "\n",
    "    lin_mse_train = mean_squared_error(y_true=Y_train[\"log_Price_1000s_cap\"], y_pred=Y_train_pred)\n",
    "    lin_mse = mean_squared_error(y_true=Y_test[\"log_Price_1000s_cap\"], y_pred=Y_test_pred)\n",
    "    print(lin_mse_train, lin_mse,sep=\"\\t\")\n",
    "\n",
    "    res = pd.DataFrame(Y_test[\"log_Price_1000s_cap\"].copy())\n",
    "    res[\"Y_test_pred\"] = Y_test_pred\n",
    "    return res\n",
    "\n",
    "    \n"
   ]
  },
  {
   "cell_type": "code",
   "execution_count": 289,
   "metadata": {},
   "outputs": [
    {
     "name": "stdout",
     "output_type": "stream",
     "text": [
      "train_r2: 0.7715608800213517\n",
      "test_r2: 0.7863596074886542\n",
      "0.06853734889600233\t0.06418173881463458\n"
     ]
    }
   ],
   "source": [
    "lin_reg = LinearRegression(n_jobs=-1)\n",
    "lin_reg.fit(X_train,Y_train)\n",
    "\n",
    "# get R_square\n",
    "print(f\"train_r2: {lin_reg.score(X_train,Y_train)}\")\n",
    "print(f\"test_r2: {lin_reg.score(X_test,Y_test)}\")\n",
    "\n",
    "# ge predict\n",
    "Y_train_pred = lin_reg.predict(X_train)\n",
    "Y_test_pred = lin_reg.predict(X_test)\n",
    "\n",
    "lin_mse_train = mean_squared_error(y_true=Y_train, y_pred=Y_train_pred)\n",
    "lin_mse = mean_squared_error(y_true=Y_test, y_pred=Y_test_pred)\n",
    "print(lin_mse_train, lin_mse,sep=\"\\t\")\n"
   ]
  },
  {
   "cell_type": "code",
   "execution_count": 290,
   "metadata": {},
   "outputs": [
    {
     "ename": "Exception",
     "evalue": "Data must be 1-dimensional",
     "output_type": "error",
     "traceback": [
      "\u001b[0;31m---------------------------------------------------------------------------\u001b[0m",
      "\u001b[0;31mException\u001b[0m                                 Traceback (most recent call last)",
      "\u001b[0;32m<ipython-input-290-2de2fef43c99>\u001b[0m in \u001b[0;36m<module>\u001b[0;34m\u001b[0m\n\u001b[0;32m----> 1\u001b[0;31m \u001b[0mY_pred\u001b[0m \u001b[0;34m=\u001b[0m \u001b[0mpd\u001b[0m\u001b[0;34m.\u001b[0m\u001b[0mSeries\u001b[0m\u001b[0;34m(\u001b[0m\u001b[0mY_test_pred\u001b[0m\u001b[0;34m,\u001b[0m\u001b[0mname\u001b[0m\u001b[0;34m=\u001b[0m\u001b[0;34m\"Y_pred\"\u001b[0m\u001b[0;34m)\u001b[0m\u001b[0;34m\u001b[0m\u001b[0;34m\u001b[0m\u001b[0m\n\u001b[0m\u001b[1;32m      2\u001b[0m \u001b[0mabs_residuals\u001b[0m \u001b[0;34m=\u001b[0m  \u001b[0mnp\u001b[0m\u001b[0;34m.\u001b[0m\u001b[0mabs\u001b[0m\u001b[0;34m(\u001b[0m\u001b[0;34m-\u001b[0m \u001b[0mY_test\u001b[0m \u001b[0;34m+\u001b[0m \u001b[0mY_test_pred\u001b[0m\u001b[0;34m)\u001b[0m\u001b[0;34m\u001b[0m\u001b[0;34m\u001b[0m\u001b[0m\n\u001b[1;32m      3\u001b[0m \u001b[0mabs_residuals\u001b[0m\u001b[0;34m.\u001b[0m\u001b[0mname\u001b[0m \u001b[0;34m=\u001b[0m \u001b[0;34m\"abs_residuals\"\u001b[0m\u001b[0;34m\u001b[0m\u001b[0;34m\u001b[0m\u001b[0m\n\u001b[1;32m      4\u001b[0m \u001b[0maccuracy\u001b[0m \u001b[0;34m=\u001b[0m \u001b[0mabs_residuals\u001b[0m\u001b[0;34m/\u001b[0m \u001b[0mY_test\u001b[0m\u001b[0;34m\u001b[0m\u001b[0;34m\u001b[0m\u001b[0m\n\u001b[1;32m      5\u001b[0m \u001b[0maccuracy\u001b[0m\u001b[0;34m.\u001b[0m\u001b[0mname\u001b[0m \u001b[0;34m=\u001b[0m\u001b[0;34m\"accuracy\"\u001b[0m\u001b[0;34m\u001b[0m\u001b[0;34m\u001b[0m\u001b[0m\n",
      "\u001b[0;32m~/anaconda3/lib/python3.7/site-packages/pandas/core/series.py\u001b[0m in \u001b[0;36m__init__\u001b[0;34m(self, data, index, dtype, name, copy, fastpath)\u001b[0m\n\u001b[1;32m    325\u001b[0m                     \u001b[0mdata\u001b[0m \u001b[0;34m=\u001b[0m \u001b[0mdata\u001b[0m\u001b[0;34m.\u001b[0m\u001b[0mcopy\u001b[0m\u001b[0;34m(\u001b[0m\u001b[0;34m)\u001b[0m\u001b[0;34m\u001b[0m\u001b[0;34m\u001b[0m\u001b[0m\n\u001b[1;32m    326\u001b[0m             \u001b[0;32melse\u001b[0m\u001b[0;34m:\u001b[0m\u001b[0;34m\u001b[0m\u001b[0;34m\u001b[0m\u001b[0m\n\u001b[0;32m--> 327\u001b[0;31m                 \u001b[0mdata\u001b[0m \u001b[0;34m=\u001b[0m \u001b[0msanitize_array\u001b[0m\u001b[0;34m(\u001b[0m\u001b[0mdata\u001b[0m\u001b[0;34m,\u001b[0m \u001b[0mindex\u001b[0m\u001b[0;34m,\u001b[0m \u001b[0mdtype\u001b[0m\u001b[0;34m,\u001b[0m \u001b[0mcopy\u001b[0m\u001b[0;34m,\u001b[0m \u001b[0mraise_cast_failure\u001b[0m\u001b[0;34m=\u001b[0m\u001b[0;32mTrue\u001b[0m\u001b[0;34m)\u001b[0m\u001b[0;34m\u001b[0m\u001b[0;34m\u001b[0m\u001b[0m\n\u001b[0m\u001b[1;32m    328\u001b[0m \u001b[0;34m\u001b[0m\u001b[0m\n\u001b[1;32m    329\u001b[0m                 \u001b[0mdata\u001b[0m \u001b[0;34m=\u001b[0m \u001b[0mSingleBlockManager\u001b[0m\u001b[0;34m.\u001b[0m\u001b[0mfrom_array\u001b[0m\u001b[0;34m(\u001b[0m\u001b[0mdata\u001b[0m\u001b[0;34m,\u001b[0m \u001b[0mindex\u001b[0m\u001b[0;34m)\u001b[0m\u001b[0;34m\u001b[0m\u001b[0;34m\u001b[0m\u001b[0m\n",
      "\u001b[0;32m~/anaconda3/lib/python3.7/site-packages/pandas/core/construction.py\u001b[0m in \u001b[0;36msanitize_array\u001b[0;34m(data, index, dtype, copy, raise_cast_failure)\u001b[0m\n\u001b[1;32m    490\u001b[0m     \u001b[0;32melif\u001b[0m \u001b[0msubarr\u001b[0m\u001b[0;34m.\u001b[0m\u001b[0mndim\u001b[0m \u001b[0;34m>\u001b[0m \u001b[0;36m1\u001b[0m\u001b[0;34m:\u001b[0m\u001b[0;34m\u001b[0m\u001b[0;34m\u001b[0m\u001b[0m\n\u001b[1;32m    491\u001b[0m         \u001b[0;32mif\u001b[0m \u001b[0misinstance\u001b[0m\u001b[0;34m(\u001b[0m\u001b[0mdata\u001b[0m\u001b[0;34m,\u001b[0m \u001b[0mnp\u001b[0m\u001b[0;34m.\u001b[0m\u001b[0mndarray\u001b[0m\u001b[0;34m)\u001b[0m\u001b[0;34m:\u001b[0m\u001b[0;34m\u001b[0m\u001b[0;34m\u001b[0m\u001b[0m\n\u001b[0;32m--> 492\u001b[0;31m             \u001b[0;32mraise\u001b[0m \u001b[0mException\u001b[0m\u001b[0;34m(\u001b[0m\u001b[0;34m\"Data must be 1-dimensional\"\u001b[0m\u001b[0;34m)\u001b[0m\u001b[0;34m\u001b[0m\u001b[0;34m\u001b[0m\u001b[0m\n\u001b[0m\u001b[1;32m    493\u001b[0m         \u001b[0;32melse\u001b[0m\u001b[0;34m:\u001b[0m\u001b[0;34m\u001b[0m\u001b[0;34m\u001b[0m\u001b[0m\n\u001b[1;32m    494\u001b[0m             \u001b[0msubarr\u001b[0m \u001b[0;34m=\u001b[0m \u001b[0mcom\u001b[0m\u001b[0;34m.\u001b[0m\u001b[0masarray_tuplesafe\u001b[0m\u001b[0;34m(\u001b[0m\u001b[0mdata\u001b[0m\u001b[0;34m,\u001b[0m \u001b[0mdtype\u001b[0m\u001b[0;34m=\u001b[0m\u001b[0mdtype\u001b[0m\u001b[0;34m)\u001b[0m\u001b[0;34m\u001b[0m\u001b[0;34m\u001b[0m\u001b[0m\n",
      "\u001b[0;31mException\u001b[0m: Data must be 1-dimensional"
     ]
    }
   ],
   "source": [
    "Y_pred = pd.Series(Y_test_pred,name=\"Y_pred\")\n",
    "abs_residuals =  np.abs(- Y_test + Y_test_pred)\n",
    "abs_residuals.name = \"abs_residuals\"\n",
    "accuracy = abs_residuals/ Y_test\n",
    "accuracy.name =\"accuracy\"\n",
    "mape_table = pd.merge(X_test,Y_test,left_index = True, right_index=True,how=\"inner\")\n",
    "mape_table = pd.merge(mape_table,Y_pred,left_index = True, right_index=True,how=\"inner\")\n",
    "mape_table = pd.merge(mape_table, abs_residuals, left_index=True,right_index = True, how=\"inner\")\n",
    "mape_table = pd.merge(mape_table, accuracy, left_index=True,right_index = True, how=\"inner\")"
   ]
  },
  {
   "cell_type": "code",
   "execution_count": null,
   "metadata": {},
   "outputs": [],
   "source": []
  }
 ],
 "metadata": {
  "kernelspec": {
   "display_name": "Python 3",
   "language": "python",
   "name": "python3"
  },
  "language_info": {
   "codemirror_mode": {
    "name": "ipython",
    "version": 3
   },
   "file_extension": ".py",
   "mimetype": "text/x-python",
   "name": "python",
   "nbconvert_exporter": "python",
   "pygments_lexer": "ipython3",
   "version": "3.7.4"
  }
 },
 "nbformat": 4,
 "nbformat_minor": 2
}
