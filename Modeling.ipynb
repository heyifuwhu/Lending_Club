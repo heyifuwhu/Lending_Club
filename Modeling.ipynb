{
 "cells": [
  {
   "cell_type": "markdown",
   "metadata": {},
   "source": [
    "# Modeling\n",
    "## 1. Import cleaned data"
   ]
  },
  {
   "cell_type": "code",
   "execution_count": 72,
   "metadata": {},
   "outputs": [],
   "source": [
    "import pandas as pd\n",
    "import numpy as np\n",
    "import sys, os\n",
    "import matplotlib.pyplot as plt\n",
    "plt.style.use('ggplot')\n",
    "%matplotlib inline\n",
    "import seaborn as sns\n",
    "sns.set_palette('muted')\n",
    "sns.set_style('darkgrid')\n",
    "import time\n",
    "\n",
    "import warnings\n",
    "warnings.filterwarnings('ignore')"
   ]
  },
  {
   "cell_type": "code",
   "execution_count": 73,
   "metadata": {},
   "outputs": [],
   "source": [
    "data_path = os.path.join(os.getcwd(),'data')\n",
    "# train = pd.read_csv(os.path.join(data_path, \"train.csv\"))\n",
    "train = pd.read_csv(os.path.join(data_path, \"train_resample.csv\"))\n",
    "test = pd.read_csv(os.path.join(data_path, \"test.csv\"))\n",
    "\n",
    "# seperate features and response\n",
    "X_train, Y_train = train.iloc[:,1:], train[\"loan_status\"] \n",
    "X_test, Y_test = test.iloc[:,1:], test[\"loan_status\"] "
   ]
  },
  {
   "cell_type": "code",
   "execution_count": 74,
   "metadata": {},
   "outputs": [],
   "source": [
    "from sklearn.linear_model import LogisticRegression\n",
    "from sklearn.metrics import plot_confusion_matrix\n",
    "from sklearn.metrics import confusion_matrix\n",
    "from sklearn.metrics import precision_score, recall_score, classification_report, accuracy_score, f1_score\n",
    "from sklearn.model_selection import cross_val_score\n",
    "from sklearn.model_selection import GridSearchCV\n",
    "from sklearn.model_selection import RandomizedSearchCV\n",
    "\n",
    "\n",
    "def show_result(clf, X_train, Y_train, X_test, Y_test, pos_label):\n",
    "    print(\"Accuracy on train set: {}\".format(clf.score(X_train, Y_train)))\n",
    "    print(\"Accuracy on test set: {}\".format(clf.score(X_test, Y_test)))\n",
    "    # fig = plt.figure(figsize = (12,10))\n",
    "    plot_confusion_matrix(clf, X_test, Y_test,\n",
    "                                 #display_labels=class_names,\n",
    "                                 cmap=plt.cm.Blues,\n",
    "                                 #normalize=normalize\n",
    "                     )\n",
    "    plot_confusion_matrix(clf, X_train, Y_train,\n",
    "                                 #display_labels=class_names,\n",
    "                                 cmap=plt.cm.Blues,\n",
    "                                 #normalize=normalize\n",
    "                     )\n",
    "    \n",
    "    Y_pred = clf.predict(X_test)\n",
    "    Matrix = confusion_matrix(Y_test, Y_pred)\n",
    "    \n",
    "    # calculate the result of classification\n",
    "    result = pd.DataFrame([[-1,-1,-1,-1]],columns=[\"Accuracy\", \"Precision\", \"Recall\", \"F1-Score\"])\n",
    "    result[\"Accuracy\"] = accuracy_score(Y_test, Y_pred)\n",
    "    result[\"Precision\"] = precision_score(Y_test, Y_pred, pos_label = pos_label)\n",
    "    result[\"Recall\"] = recall_score(Y_test, Y_pred, pos_label = pos_label)\n",
    "    result[\"F1-Score\"] = f1_score(Y_test, Y_pred, pos_label = pos_label)\n",
    "    return result\n",
    "\n"
   ]
  },
  {
   "cell_type": "markdown",
   "metadata": {},
   "source": [
    "## 2. Normalization"
   ]
  },
  {
   "cell_type": "code",
   "execution_count": 33,
   "metadata": {},
   "outputs": [
    {
     "data": {
      "text/html": [
       "<div>\n",
       "<style scoped>\n",
       "    .dataframe tbody tr th:only-of-type {\n",
       "        vertical-align: middle;\n",
       "    }\n",
       "\n",
       "    .dataframe tbody tr th {\n",
       "        vertical-align: top;\n",
       "    }\n",
       "\n",
       "    .dataframe thead th {\n",
       "        text-align: right;\n",
       "    }\n",
       "</style>\n",
       "<table border=\"1\" class=\"dataframe\">\n",
       "  <thead>\n",
       "    <tr style=\"text-align: right;\">\n",
       "      <th></th>\n",
       "      <th>term</th>\n",
       "      <th>home_ownership</th>\n",
       "      <th>emp_length</th>\n",
       "      <th>verification_status</th>\n",
       "      <th>installment</th>\n",
       "      <th>monthly_inc</th>\n",
       "      <th>PaymentToIncome</th>\n",
       "      <th>dti</th>\n",
       "      <th>delinq_2yrs</th>\n",
       "      <th>inq_last_6mths</th>\n",
       "      <th>open_acc</th>\n",
       "      <th>pub_rec</th>\n",
       "      <th>revol_bal</th>\n",
       "      <th>revol_util</th>\n",
       "      <th>total_acc</th>\n",
       "    </tr>\n",
       "  </thead>\n",
       "  <tbody>\n",
       "    <tr>\n",
       "      <td>0</td>\n",
       "      <td>60</td>\n",
       "      <td>2</td>\n",
       "      <td>4</td>\n",
       "      <td>3</td>\n",
       "      <td>388.67</td>\n",
       "      <td>4333.000000</td>\n",
       "      <td>0.089700</td>\n",
       "      <td>16.43</td>\n",
       "      <td>0</td>\n",
       "      <td>0</td>\n",
       "      <td>7</td>\n",
       "      <td>0</td>\n",
       "      <td>2644</td>\n",
       "      <td>0.482</td>\n",
       "      <td>15</td>\n",
       "    </tr>\n",
       "    <tr>\n",
       "      <td>1</td>\n",
       "      <td>36</td>\n",
       "      <td>2</td>\n",
       "      <td>0</td>\n",
       "      <td>1</td>\n",
       "      <td>38.51</td>\n",
       "      <td>1600.000000</td>\n",
       "      <td>0.024069</td>\n",
       "      <td>10.19</td>\n",
       "      <td>0</td>\n",
       "      <td>0</td>\n",
       "      <td>9</td>\n",
       "      <td>0</td>\n",
       "      <td>6283</td>\n",
       "      <td>0.472</td>\n",
       "      <td>10</td>\n",
       "    </tr>\n",
       "    <tr>\n",
       "      <td>2</td>\n",
       "      <td>36</td>\n",
       "      <td>2</td>\n",
       "      <td>7</td>\n",
       "      <td>1</td>\n",
       "      <td>221.28</td>\n",
       "      <td>4666.666667</td>\n",
       "      <td>0.047417</td>\n",
       "      <td>9.11</td>\n",
       "      <td>0</td>\n",
       "      <td>1</td>\n",
       "      <td>13</td>\n",
       "      <td>0</td>\n",
       "      <td>977</td>\n",
       "      <td>0.027</td>\n",
       "      <td>32</td>\n",
       "    </tr>\n",
       "    <tr>\n",
       "      <td>3</td>\n",
       "      <td>36</td>\n",
       "      <td>3</td>\n",
       "      <td>0</td>\n",
       "      <td>3</td>\n",
       "      <td>167.09</td>\n",
       "      <td>4166.666667</td>\n",
       "      <td>0.040102</td>\n",
       "      <td>15.84</td>\n",
       "      <td>0</td>\n",
       "      <td>1</td>\n",
       "      <td>7</td>\n",
       "      <td>0</td>\n",
       "      <td>14576</td>\n",
       "      <td>0.684</td>\n",
       "      <td>18</td>\n",
       "    </tr>\n",
       "    <tr>\n",
       "      <td>4</td>\n",
       "      <td>36</td>\n",
       "      <td>3</td>\n",
       "      <td>9</td>\n",
       "      <td>1</td>\n",
       "      <td>372.12</td>\n",
       "      <td>5000.000000</td>\n",
       "      <td>0.074424</td>\n",
       "      <td>16.32</td>\n",
       "      <td>1</td>\n",
       "      <td>0</td>\n",
       "      <td>9</td>\n",
       "      <td>0</td>\n",
       "      <td>13703</td>\n",
       "      <td>0.322</td>\n",
       "      <td>37</td>\n",
       "    </tr>\n",
       "    <tr>\n",
       "      <td>5</td>\n",
       "      <td>36</td>\n",
       "      <td>2</td>\n",
       "      <td>9</td>\n",
       "      <td>1</td>\n",
       "      <td>156.10</td>\n",
       "      <td>5833.333333</td>\n",
       "      <td>0.026760</td>\n",
       "      <td>2.11</td>\n",
       "      <td>0</td>\n",
       "      <td>0</td>\n",
       "      <td>6</td>\n",
       "      <td>0</td>\n",
       "      <td>2663</td>\n",
       "      <td>0.222</td>\n",
       "      <td>16</td>\n",
       "    </tr>\n",
       "    <tr>\n",
       "      <td>6</td>\n",
       "      <td>36</td>\n",
       "      <td>3</td>\n",
       "      <td>4</td>\n",
       "      <td>1</td>\n",
       "      <td>369.08</td>\n",
       "      <td>4166.666667</td>\n",
       "      <td>0.088579</td>\n",
       "      <td>4.15</td>\n",
       "      <td>0</td>\n",
       "      <td>0</td>\n",
       "      <td>5</td>\n",
       "      <td>0</td>\n",
       "      <td>4268</td>\n",
       "      <td>0.736</td>\n",
       "      <td>5</td>\n",
       "    </tr>\n",
       "    <tr>\n",
       "      <td>7</td>\n",
       "      <td>36</td>\n",
       "      <td>3</td>\n",
       "      <td>5</td>\n",
       "      <td>2</td>\n",
       "      <td>735.14</td>\n",
       "      <td>8400.000000</td>\n",
       "      <td>0.087517</td>\n",
       "      <td>18.60</td>\n",
       "      <td>0</td>\n",
       "      <td>1</td>\n",
       "      <td>12</td>\n",
       "      <td>0</td>\n",
       "      <td>27773</td>\n",
       "      <td>0.529</td>\n",
       "      <td>26</td>\n",
       "    </tr>\n",
       "    <tr>\n",
       "      <td>8</td>\n",
       "      <td>36</td>\n",
       "      <td>3</td>\n",
       "      <td>10</td>\n",
       "      <td>3</td>\n",
       "      <td>309.42</td>\n",
       "      <td>4250.000000</td>\n",
       "      <td>0.072805</td>\n",
       "      <td>7.27</td>\n",
       "      <td>0</td>\n",
       "      <td>0</td>\n",
       "      <td>14</td>\n",
       "      <td>0</td>\n",
       "      <td>9372</td>\n",
       "      <td>0.105</td>\n",
       "      <td>22</td>\n",
       "    </tr>\n",
       "    <tr>\n",
       "      <td>9</td>\n",
       "      <td>36</td>\n",
       "      <td>4</td>\n",
       "      <td>10</td>\n",
       "      <td>1</td>\n",
       "      <td>257.78</td>\n",
       "      <td>7500.000000</td>\n",
       "      <td>0.034371</td>\n",
       "      <td>9.87</td>\n",
       "      <td>0</td>\n",
       "      <td>3</td>\n",
       "      <td>16</td>\n",
       "      <td>0</td>\n",
       "      <td>5163</td>\n",
       "      <td>0.040</td>\n",
       "      <td>35</td>\n",
       "    </tr>\n",
       "  </tbody>\n",
       "</table>\n",
       "</div>"
      ],
      "text/plain": [
       "   term  home_ownership  emp_length  verification_status  installment  \\\n",
       "0    60               2           4                    3       388.67   \n",
       "1    36               2           0                    1        38.51   \n",
       "2    36               2           7                    1       221.28   \n",
       "3    36               3           0                    3       167.09   \n",
       "4    36               3           9                    1       372.12   \n",
       "5    36               2           9                    1       156.10   \n",
       "6    36               3           4                    1       369.08   \n",
       "7    36               3           5                    2       735.14   \n",
       "8    36               3          10                    3       309.42   \n",
       "9    36               4          10                    1       257.78   \n",
       "\n",
       "   monthly_inc  PaymentToIncome    dti  delinq_2yrs  inq_last_6mths  open_acc  \\\n",
       "0  4333.000000         0.089700  16.43            0               0         7   \n",
       "1  1600.000000         0.024069  10.19            0               0         9   \n",
       "2  4666.666667         0.047417   9.11            0               1        13   \n",
       "3  4166.666667         0.040102  15.84            0               1         7   \n",
       "4  5000.000000         0.074424  16.32            1               0         9   \n",
       "5  5833.333333         0.026760   2.11            0               0         6   \n",
       "6  4166.666667         0.088579   4.15            0               0         5   \n",
       "7  8400.000000         0.087517  18.60            0               1        12   \n",
       "8  4250.000000         0.072805   7.27            0               0        14   \n",
       "9  7500.000000         0.034371   9.87            0               3        16   \n",
       "\n",
       "   pub_rec  revol_bal  revol_util  total_acc  \n",
       "0        0       2644       0.482         15  \n",
       "1        0       6283       0.472         10  \n",
       "2        0        977       0.027         32  \n",
       "3        0      14576       0.684         18  \n",
       "4        0      13703       0.322         37  \n",
       "5        0       2663       0.222         16  \n",
       "6        0       4268       0.736          5  \n",
       "7        0      27773       0.529         26  \n",
       "8        0       9372       0.105         22  \n",
       "9        0       5163       0.040         35  "
      ]
     },
     "execution_count": 33,
     "metadata": {},
     "output_type": "execute_result"
    }
   ],
   "source": [
    "X_train.head(10)"
   ]
  },
  {
   "cell_type": "code",
   "execution_count": 76,
   "metadata": {},
   "outputs": [
    {
     "data": {
      "text/html": [
       "<div>\n",
       "<style scoped>\n",
       "    .dataframe tbody tr th:only-of-type {\n",
       "        vertical-align: middle;\n",
       "    }\n",
       "\n",
       "    .dataframe tbody tr th {\n",
       "        vertical-align: top;\n",
       "    }\n",
       "\n",
       "    .dataframe thead th {\n",
       "        text-align: right;\n",
       "    }\n",
       "</style>\n",
       "<table border=\"1\" class=\"dataframe\">\n",
       "  <thead>\n",
       "    <tr style=\"text-align: right;\">\n",
       "      <th></th>\n",
       "      <th>term</th>\n",
       "      <th>home_ownership</th>\n",
       "      <th>emp_length</th>\n",
       "      <th>verification_status</th>\n",
       "      <th>installment</th>\n",
       "      <th>monthly_inc</th>\n",
       "      <th>PaymentToIncome</th>\n",
       "      <th>dti</th>\n",
       "      <th>delinq_2yrs</th>\n",
       "      <th>inq_last_6mths</th>\n",
       "      <th>open_acc</th>\n",
       "      <th>pub_rec</th>\n",
       "      <th>revol_bal</th>\n",
       "      <th>revol_util</th>\n",
       "      <th>total_acc</th>\n",
       "    </tr>\n",
       "  </thead>\n",
       "  <tbody>\n",
       "    <tr>\n",
       "      <td>0</td>\n",
       "      <td>60.0</td>\n",
       "      <td>2.0</td>\n",
       "      <td>4.0</td>\n",
       "      <td>3.0</td>\n",
       "      <td>0.300874</td>\n",
       "      <td>-0.247754</td>\n",
       "      <td>0.548589</td>\n",
       "      <td>0.448341</td>\n",
       "      <td>-0.326269</td>\n",
       "      <td>-0.922954</td>\n",
       "      <td>-0.538912</td>\n",
       "      <td>-0.278033</td>\n",
       "      <td>-0.692508</td>\n",
       "      <td>-0.128804</td>\n",
       "      <td>-0.627974</td>\n",
       "    </tr>\n",
       "    <tr>\n",
       "      <td>1</td>\n",
       "      <td>36.0</td>\n",
       "      <td>2.0</td>\n",
       "      <td>0.0</td>\n",
       "      <td>1.0</td>\n",
       "      <td>-1.432404</td>\n",
       "      <td>-0.804280</td>\n",
       "      <td>-1.135315</td>\n",
       "      <td>-0.544606</td>\n",
       "      <td>-0.326269</td>\n",
       "      <td>-0.922954</td>\n",
       "      <td>-0.064296</td>\n",
       "      <td>-0.278033</td>\n",
       "      <td>-0.458826</td>\n",
       "      <td>-0.165846</td>\n",
       "      <td>-1.088804</td>\n",
       "    </tr>\n",
       "    <tr>\n",
       "      <td>2</td>\n",
       "      <td>36.0</td>\n",
       "      <td>2.0</td>\n",
       "      <td>7.0</td>\n",
       "      <td>1.0</td>\n",
       "      <td>-0.527700</td>\n",
       "      <td>-0.179809</td>\n",
       "      <td>-0.536264</td>\n",
       "      <td>-0.716463</td>\n",
       "      <td>-0.326269</td>\n",
       "      <td>0.057799</td>\n",
       "      <td>0.884937</td>\n",
       "      <td>-0.278033</td>\n",
       "      <td>-0.799556</td>\n",
       "      <td>-1.814178</td>\n",
       "      <td>0.938849</td>\n",
       "    </tr>\n",
       "    <tr>\n",
       "      <td>3</td>\n",
       "      <td>36.0</td>\n",
       "      <td>3.0</td>\n",
       "      <td>0.0</td>\n",
       "      <td>3.0</td>\n",
       "      <td>-0.795938</td>\n",
       "      <td>-0.281625</td>\n",
       "      <td>-0.723960</td>\n",
       "      <td>0.354456</td>\n",
       "      <td>-0.326269</td>\n",
       "      <td>0.057799</td>\n",
       "      <td>-0.538912</td>\n",
       "      <td>-0.278033</td>\n",
       "      <td>0.073717</td>\n",
       "      <td>0.619428</td>\n",
       "      <td>-0.351476</td>\n",
       "    </tr>\n",
       "    <tr>\n",
       "      <td>4</td>\n",
       "      <td>36.0</td>\n",
       "      <td>3.0</td>\n",
       "      <td>9.0</td>\n",
       "      <td>1.0</td>\n",
       "      <td>0.218952</td>\n",
       "      <td>-0.111931</td>\n",
       "      <td>0.156652</td>\n",
       "      <td>0.430837</td>\n",
       "      <td>1.785511</td>\n",
       "      <td>-0.922954</td>\n",
       "      <td>-0.064296</td>\n",
       "      <td>-0.278033</td>\n",
       "      <td>0.017656</td>\n",
       "      <td>-0.721463</td>\n",
       "      <td>1.399679</td>\n",
       "    </tr>\n",
       "  </tbody>\n",
       "</table>\n",
       "</div>"
      ],
      "text/plain": [
       "   term  home_ownership  emp_length  verification_status  installment  \\\n",
       "0  60.0             2.0         4.0                  3.0     0.300874   \n",
       "1  36.0             2.0         0.0                  1.0    -1.432404   \n",
       "2  36.0             2.0         7.0                  1.0    -0.527700   \n",
       "3  36.0             3.0         0.0                  3.0    -0.795938   \n",
       "4  36.0             3.0         9.0                  1.0     0.218952   \n",
       "\n",
       "   monthly_inc  PaymentToIncome       dti  delinq_2yrs  inq_last_6mths  \\\n",
       "0    -0.247754         0.548589  0.448341    -0.326269       -0.922954   \n",
       "1    -0.804280        -1.135315 -0.544606    -0.326269       -0.922954   \n",
       "2    -0.179809        -0.536264 -0.716463    -0.326269        0.057799   \n",
       "3    -0.281625        -0.723960  0.354456    -0.326269        0.057799   \n",
       "4    -0.111931         0.156652  0.430837     1.785511       -0.922954   \n",
       "\n",
       "   open_acc   pub_rec  revol_bal  revol_util  total_acc  \n",
       "0 -0.538912 -0.278033  -0.692508   -0.128804  -0.627974  \n",
       "1 -0.064296 -0.278033  -0.458826   -0.165846  -1.088804  \n",
       "2  0.884937 -0.278033  -0.799556   -1.814178   0.938849  \n",
       "3 -0.538912 -0.278033   0.073717    0.619428  -0.351476  \n",
       "4 -0.064296 -0.278033   0.017656   -0.721463   1.399679  "
      ]
     },
     "execution_count": 76,
     "metadata": {},
     "output_type": "execute_result"
    }
   ],
   "source": [
    "# Z-score normalization\n",
    "train_mean = X_train.iloc[:,4:].mean(axis=0)\n",
    "train_std = X_train.iloc[:,4:].std(axis=0)\n",
    "X_train.iloc[:,4:] = (X_train.iloc[:,4:] - train_mean) / train_std\n",
    "X_test.iloc[:,4:] = (X_test.iloc[:,4:] - train_mean) / train_std\n",
    "X_train.head()"
   ]
  },
  {
   "cell_type": "markdown",
   "metadata": {},
   "source": [
    "## 3. logistic regression\n"
   ]
  },
  {
   "cell_type": "code",
   "execution_count": 77,
   "metadata": {},
   "outputs": [
    {
     "name": "stdout",
     "output_type": "stream",
     "text": [
      "Accuracy on train set: 0.6251840649500537\n",
      "Accuracy on test set: 0.6251099660676134\n"
     ]
    },
    {
     "data": {
      "text/html": [
       "<div>\n",
       "<style scoped>\n",
       "    .dataframe tbody tr th:only-of-type {\n",
       "        vertical-align: middle;\n",
       "    }\n",
       "\n",
       "    .dataframe tbody tr th {\n",
       "        vertical-align: top;\n",
       "    }\n",
       "\n",
       "    .dataframe thead th {\n",
       "        text-align: right;\n",
       "    }\n",
       "</style>\n",
       "<table border=\"1\" class=\"dataframe\">\n",
       "  <thead>\n",
       "    <tr style=\"text-align: right;\">\n",
       "      <th></th>\n",
       "      <th>Accuracy</th>\n",
       "      <th>Precision</th>\n",
       "      <th>Recall</th>\n",
       "      <th>F1-Score</th>\n",
       "    </tr>\n",
       "  </thead>\n",
       "  <tbody>\n",
       "    <tr>\n",
       "      <td>0</td>\n",
       "      <td>0.62511</td>\n",
       "      <td>0.91334</td>\n",
       "      <td>0.624125</td>\n",
       "      <td>0.74153</td>\n",
       "    </tr>\n",
       "  </tbody>\n",
       "</table>\n",
       "</div>"
      ],
      "text/plain": [
       "   Accuracy  Precision    Recall  F1-Score\n",
       "0   0.62511    0.91334  0.624125   0.74153"
      ]
     },
     "execution_count": 77,
     "metadata": {},
     "output_type": "execute_result"
    },
    {
     "data": {
      "image/png": "[encoded data removed]",
      "text/plain": [
       "<Figure size 432x288 with 2 Axes>"
      ]
     },
     "metadata": {},
     "output_type": "display_data"
    },
    {
     "data": {
      "image/png": "[encoded data removed]",
      "text/plain": [
       "<Figure size 432x288 with 2 Axes>"
      ]
     },
     "metadata": {},
     "output_type": "display_data"
    }
   ],
   "source": [
    "clf_logistic = LogisticRegression(n_jobs = -1).fit(X_train, Y_train)\n",
    "show_result(clf_logistic,X_train,Y_train,X_test,Y_test, \"Fully Paid\")"
   ]
  },
  {
   "cell_type": "code",
   "execution_count": null,
   "metadata": {},
   "outputs": [],
   "source": []
  },
  {
   "cell_type": "code",
   "execution_count": null,
   "metadata": {},
   "outputs": [],
   "source": []
  },
  {
   "cell_type": "markdown",
   "metadata": {},
   "source": [
    "## 3.Decision Tree"
   ]
  },
  {
   "cell_type": "code",
   "execution_count": 78,
   "metadata": {},
   "outputs": [
    {
     "name": "stdout",
     "output_type": "stream",
     "text": [
      "Accuracy on train set: 1.0\n",
      "Accuracy on test set: 0.7152193037576976\n"
     ]
    },
    {
     "data": {
      "text/html": [
       "<div>\n",
       "<style scoped>\n",
       "    .dataframe tbody tr th:only-of-type {\n",
       "        vertical-align: middle;\n",
       "    }\n",
       "\n",
       "    .dataframe tbody tr th {\n",
       "        vertical-align: top;\n",
       "    }\n",
       "\n",
       "    .dataframe thead th {\n",
       "        text-align: right;\n",
       "    }\n",
       "</style>\n",
       "<table border=\"1\" class=\"dataframe\">\n",
       "  <thead>\n",
       "    <tr style=\"text-align: right;\">\n",
       "      <th></th>\n",
       "      <th>Accuracy</th>\n",
       "      <th>Precision</th>\n",
       "      <th>Recall</th>\n",
       "      <th>F1-Score</th>\n",
       "    </tr>\n",
       "  </thead>\n",
       "  <tbody>\n",
       "    <tr>\n",
       "      <td>0</td>\n",
       "      <td>0.715219</td>\n",
       "      <td>0.870999</td>\n",
       "      <td>0.785881</td>\n",
       "      <td>0.826254</td>\n",
       "    </tr>\n",
       "  </tbody>\n",
       "</table>\n",
       "</div>"
      ],
      "text/plain": [
       "   Accuracy  Precision    Recall  F1-Score\n",
       "0  0.715219   0.870999  0.785881  0.826254"
      ]
     },
     "execution_count": 78,
     "metadata": {},
     "output_type": "execute_result"
    },
    {
     "data": {
      "image/png": "[encoded data removed]",
      "text/plain": [
       "<Figure size 432x288 with 2 Axes>"
      ]
     },
     "metadata": {},
     "output_type": "display_data"
    },
    {
     "data": {
      "image/png": "[encoded data removed]",
      "text/plain": [
       "<Figure size 432x288 with 2 Axes>"
      ]
     },
     "metadata": {},
     "output_type": "display_data"
    }
   ],
   "source": [
    "from sklearn import tree\n",
    "\n",
    "clf_decisionTree = tree.DecisionTreeClassifier()\n",
    "clf_decisionTree = clf_decisionTree.fit(X_train, Y_train)\n",
    "show_result(clf_decisionTree,X_train,Y_train,X_test,Y_test,\"Fully Paid\")\n",
    "\n",
    "# cross validation\n"
   ]
  },
  {
   "cell_type": "markdown",
   "metadata": {},
   "source": [
    "## 4. Random Forest"
   ]
  },
  {
   "cell_type": "code",
   "execution_count": 79,
   "metadata": {
    "scrolled": false
   },
   "outputs": [
    {
     "name": "stdout",
     "output_type": "stream",
     "text": [
      "Accuracy on train set: 1.0\n",
      "Accuracy on test set: 0.8317204976750031\n"
     ]
    },
    {
     "data": {
      "text/html": [
       "<div>\n",
       "<style scoped>\n",
       "    .dataframe tbody tr th:only-of-type {\n",
       "        vertical-align: middle;\n",
       "    }\n",
       "\n",
       "    .dataframe tbody tr th {\n",
       "        vertical-align: top;\n",
       "    }\n",
       "\n",
       "    .dataframe thead th {\n",
       "        text-align: right;\n",
       "    }\n",
       "</style>\n",
       "<table border=\"1\" class=\"dataframe\">\n",
       "  <thead>\n",
       "    <tr style=\"text-align: right;\">\n",
       "      <th></th>\n",
       "      <th>Accuracy</th>\n",
       "      <th>Precision</th>\n",
       "      <th>Recall</th>\n",
       "      <th>F1-Score</th>\n",
       "    </tr>\n",
       "  </thead>\n",
       "  <tbody>\n",
       "    <tr>\n",
       "      <td>0</td>\n",
       "      <td>0.83172</td>\n",
       "      <td>0.869327</td>\n",
       "      <td>0.947054</td>\n",
       "      <td>0.906527</td>\n",
       "    </tr>\n",
       "  </tbody>\n",
       "</table>\n",
       "</div>"
      ],
      "text/plain": [
       "   Accuracy  Precision    Recall  F1-Score\n",
       "0   0.83172   0.869327  0.947054  0.906527"
      ]
     },
     "execution_count": 79,
     "metadata": {},
     "output_type": "execute_result"
    },
    {
     "data": {
      "image/png": "[encoded data removed]",
      "text/plain": [
       "<Figure size 432x288 with 2 Axes>"
      ]
     },
     "metadata": {},
     "output_type": "display_data"
    },
    {
     "data": {
      "image/png": "[encoded data removed]",
      "text/plain": [
       "<Figure size 432x288 with 2 Axes>"
      ]
     },
     "metadata": {},
     "output_type": "display_data"
    }
   ],
   "source": [
    "from sklearn.ensemble import RandomForestClassifier\n",
    "clf_rf = RandomForestClassifier(n_jobs = -1)\n",
    "clf_rf.fit(X_train,Y_train)\n",
    "show_result(clf_rf,X_train,Y_train,X_test,Y_test,\"Fully Paid\")"
   ]
  },
  {
   "cell_type": "code",
   "execution_count": null,
   "metadata": {},
   "outputs": [],
   "source": []
  },
  {
   "cell_type": "code",
   "execution_count": 83,
   "metadata": {},
   "outputs": [
    {
     "data": {
      "text/plain": [
       "{'n_estimators': [100, 200],\n",
       " 'max_depth': [5, 12, 20],\n",
       " 'min_samples_split': [10, 55, 100]}"
      ]
     },
     "execution_count": 83,
     "metadata": {},
     "output_type": "execute_result"
    }
   ],
   "source": [
    "### Hyperparameter tunning and cross validation\n",
    "\n",
    "# Number of trees in Random Forest\n",
    "rf_n_estimators = [100,200]\n",
    "# rf_n_estimators = [int(x) for x in np.linspace(200, 1000, 5)]\n",
    "# rf_n_estimators.append(1500)\n",
    "# rf_n_estimators.append(2000)\n",
    "\n",
    "# Maximum number of levels in tree\n",
    "rf_max_depth = [int(x) for x in np.linspace(5, 20, 3)]\n",
    "# Add the default as a possible value\n",
    "# rf_max_depth.append(None)\n",
    "\n",
    "# Number of features to consider at every split\n",
    "rf_max_features = ['auto', 'sqrt', 'log2']\n",
    "\n",
    "# Criterion to split on\n",
    "rf_criterion = ['mse', 'mae']\n",
    "\n",
    "# Minimum number of samples required to split a node\n",
    "rf_min_samples_split = [int(x) for x in np.linspace(10, 100, 3)]\n",
    "\n",
    "# Minimum decrease in impurity required for split to happen\n",
    "rf_min_impurity_decrease = [0.0, 0.05, 0.1]\n",
    "\n",
    "# Method of selecting samples for training each tree\n",
    "rf_bootstrap = [True, False]\n",
    "\n",
    "# Create the grid\n",
    "rf_grid = {'n_estimators': rf_n_estimators,\n",
    "               'max_depth': rf_max_depth,\n",
    "#                'max_features': rf_max_features,\n",
    "#                'criterion': rf_criterion,\n",
    "               'min_samples_split': rf_min_samples_split,\n",
    "#                'min_impurity_decrease': rf_min_impurity_decrease,\n",
    "#                'bootstrap': rf_bootstrap\n",
    "          }\n",
    "rf_grid"
   ]
  },
  {
   "cell_type": "code",
   "execution_count": 84,
   "metadata": {},
   "outputs": [
    {
     "name": "stdout",
     "output_type": "stream",
     "text": [
      "Fitting 3 folds for each of 18 candidates, totalling 54 fits\n",
      "running time: 79.24566602706909\n"
     ]
    },
    {
     "data": {
      "text/plain": [
       "{'n_estimators': 200, 'min_samples_split': 10, 'max_depth': 20}"
      ]
     },
     "execution_count": 84,
     "metadata": {},
     "output_type": "execute_result"
    }
   ],
   "source": [
    "import time\n",
    "\n",
    "start = time.time()\n",
    "\n",
    "# Create the model to be tuned\n",
    "rf_base =  RandomForestClassifier(n_jobs = -1)\n",
    "\n",
    "# Create the random search Random Forest\n",
    "rf_random = RandomizedSearchCV(estimator = rf_base, param_distributions = rf_grid, \n",
    "                               n_iter = 200, cv = 5, verbose = 2, random_state = 9397, \n",
    "                               n_jobs = -1)\n",
    "\n",
    "# Fit the random search model\n",
    "rf_random.fit(X_train, Y_train)\n",
    "\n",
    "end = time.time()\n",
    "Time_clf_rf = end - start\n",
    "print(\"running time: {}\".format(Time_clf_rf))\n",
    "\n",
    "# View the best parameters from the random search\n",
    "rf_random.best_params_\n"
   ]
  },
  {
   "cell_type": "code",
   "execution_count": 89,
   "metadata": {},
   "outputs": [
    {
     "name": "stdout",
     "output_type": "stream",
     "text": [
      "Accuracy on train set: 0.9668086122497712\n",
      "Accuracy on test set: 0.8250596958652758\n"
     ]
    },
    {
     "data": {
      "text/html": [
       "<div>\n",
       "<style scoped>\n",
       "    .dataframe tbody tr th:only-of-type {\n",
       "        vertical-align: middle;\n",
       "    }\n",
       "\n",
       "    .dataframe tbody tr th {\n",
       "        vertical-align: top;\n",
       "    }\n",
       "\n",
       "    .dataframe thead th {\n",
       "        text-align: right;\n",
       "    }\n",
       "</style>\n",
       "<table border=\"1\" class=\"dataframe\">\n",
       "  <thead>\n",
       "    <tr style=\"text-align: right;\">\n",
       "      <th></th>\n",
       "      <th>Accuracy</th>\n",
       "      <th>Precision</th>\n",
       "      <th>Recall</th>\n",
       "      <th>F1-Score</th>\n",
       "    </tr>\n",
       "  </thead>\n",
       "  <tbody>\n",
       "    <tr>\n",
       "      <td>0</td>\n",
       "      <td>0.82506</td>\n",
       "      <td>0.868393</td>\n",
       "      <td>0.939323</td>\n",
       "      <td>0.902466</td>\n",
       "    </tr>\n",
       "  </tbody>\n",
       "</table>\n",
       "</div>"
      ],
      "text/plain": [
       "   Accuracy  Precision    Recall  F1-Score\n",
       "0   0.82506   0.868393  0.939323  0.902466"
      ]
     },
     "execution_count": 89,
     "metadata": {},
     "output_type": "execute_result"
    },
    {
     "data": {
      "image/png": "[encoded data removed]",
      "text/plain": [
       "<Figure size 432x288 with 2 Axes>"
      ]
     },
     "metadata": {},
     "output_type": "display_data"
    },
    {
     "data": {
      "image/png": "[encoded data removed]",
      "text/plain": [
       "<Figure size 432x288 with 2 Axes>"
      ]
     },
     "metadata": {},
     "output_type": "display_data"
    }
   ],
   "source": [
    "clf_rf2 = RandomForestClassifier(**rf_random.best_params_)#,n_jobs = -1)\n",
    "clf_rf2.fit(X_train,Y_train)\n",
    "show_result(clf_rf2,X_train,Y_train,X_test,Y_test,\"Fully Paid\")"
   ]
  },
  {
   "cell_type": "code",
   "execution_count": null,
   "metadata": {},
   "outputs": [],
   "source": []
  },
  {
   "cell_type": "markdown",
   "metadata": {},
   "source": [
    "## 5.Gradient Boosting"
   ]
  },
  {
   "cell_type": "code",
   "execution_count": 90,
   "metadata": {},
   "outputs": [
    {
     "data": {
      "text/plain": [
       "{'n_estimators': [200, 400, 600, 800, 1000, 1200, 1400, 1600, 1800, 2000],\n",
       " 'max_depth': [2, 4, 6, 8, 10, 12, 14, 16, 18, 20],\n",
       " 'min_child_weight': [1, 2, 3, 4, 5, 6, 7, 8, 9, 10],\n",
       " 'tree_method': ['auto', 'exact', 'approx', 'hist', 'gpu_hist'],\n",
       " 'eta': [0.1, 0.2, 0.30000000000000004, 0.4, 0.5, 0.6],\n",
       " 'gamma': [0, 0, 0, 0, 0, 0],\n",
       " 'objective': ['reg:squarederror', 'reg:squaredlogerror']}"
      ]
     },
     "execution_count": 90,
     "metadata": {},
     "output_type": "execute_result"
    }
   ],
   "source": [
    "import \n",
    "\n",
    "# Number of trees to be used\n",
    "xgb_n_estimators = [int(x) for x in np.linspace(200, 2000, 10)]\n",
    "\n",
    "# Maximum number of levels in tree\n",
    "xgb_max_depth = [int(x) for x in np.linspace(2, 20, 10)]\n",
    "\n",
    "# Minimum number of instaces needed in each node\n",
    "xgb_min_child_weight = [int(x) for x in np.linspace(1, 10, 10)]\n",
    "\n",
    "# Tree construction algorithm used in XGBoost\n",
    "xgb_tree_method = ['auto', 'exact', 'approx', 'hist', 'gpu_hist']\n",
    "\n",
    "# Learning rate\n",
    "xgb_eta = [x for x in np.linspace(0.1, 0.6, 6)]\n",
    "\n",
    "# Minimum loss reduction required to make further partition\n",
    "xgb_gamma = [int(x) for x in np.linspace(0, 0.5, 6)]\n",
    "\n",
    "# Learning objective used\n",
    "xgb_objective = ['reg:squarederror', 'reg:squaredlogerror']\n",
    "\n",
    "# Create the grid\n",
    "xgb_grid = {'n_estimators': xgb_n_estimators,\n",
    "            'max_depth': xgb_max_depth,\n",
    "            'min_child_weight': xgb_min_child_weight,\n",
    "            'tree_method': xgb_tree_method,\n",
    "            'eta': xgb_eta,\n",
    "            'gamma': xgb_gamma,\n",
    "            'objective': xgb_objective}\n",
    "xgb_grid"
   ]
  },
  {
   "cell_type": "code",
   "execution_count": null,
   "metadata": {},
   "outputs": [],
   "source": [
    "# Create the model to be tuned\n",
    "xgb_base = XGBRegressor()\n",
    "\n",
    "# Create the random search Random Forest\n",
    "xgb_random = RandomizedSearchCV(estimator = xgb_base, param_distributions = xgb_grid, \n",
    "                                n_iter = 200, cv = 3, verbose = 2, \n",
    "                                random_state = 420, n_jobs = -1)\n",
    "\n",
    "# Fit the random search model\n",
    "xgb_random.fit(X_train_temp, y_train_temp)\n",
    "\n",
    "# Get the optimal parameters\n",
    "xgb_random.best_params_"
   ]
  },
  {
   "cell_type": "code",
   "execution_count": null,
   "metadata": {},
   "outputs": [],
   "source": []
  },
  {
   "cell_type": "code",
   "execution_count": null,
   "metadata": {},
   "outputs": [],
   "source": []
  }
 ],
 "metadata": {
  "kernelspec": {
   "display_name": "Python 3",
   "language": "python",
   "name": "python3"
  },
  "language_info": {
   "codemirror_mode": {
    "name": "ipython",
    "version": 3
   },
   "file_extension": ".py",
   "mimetype": "text/x-python",
   "name": "python",
   "nbconvert_exporter": "python",
   "pygments_lexer": "ipython3",
   "version": "3.7.4"
  }
 },
 "nbformat": 4,
 "nbformat_minor": 4
}
